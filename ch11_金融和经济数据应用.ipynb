{
 "cells": [
  {
   "cell_type": "code",
   "execution_count": 1,
   "metadata": {},
   "outputs": [],
   "source": [
    "import pandas as pd\n",
    "import numpy as np\n",
    "import matplotlib.pyplot as plt\n",
    "import matplotlib\n",
    "matplotlib.rcParams['font.sans-serif'] = [u'SimHei']\n",
    "matplotlib.rcParams['axes.unicode_minus'] = False\n",
    "import os\n",
    "\n",
    "path =str(os.getcwd()).replace('\\\\','/')\n",
    "# s=pd.read_csv(path +'/datasets/ch08_data/tips.csv',engine = 'python')"
   ]
  },
  {
   "cell_type": "code",
   "execution_count": 38,
   "metadata": {},
   "outputs": [
    {
     "data": {
      "text/html": [
       "<div>\n",
       "<style scoped>\n",
       "    .dataframe tbody tr th:only-of-type {\n",
       "        vertical-align: middle;\n",
       "    }\n",
       "\n",
       "    .dataframe tbody tr th {\n",
       "        vertical-align: top;\n",
       "    }\n",
       "\n",
       "    .dataframe thead th {\n",
       "        text-align: right;\n",
       "    }\n",
       "</style>\n",
       "<table border=\"1\" class=\"dataframe\">\n",
       "  <thead>\n",
       "    <tr style=\"text-align: right;\">\n",
       "      <th></th>\n",
       "      <th>AAPL</th>\n",
       "      <th>JNJ</th>\n",
       "      <th>SPX</th>\n",
       "      <th>XOM</th>\n",
       "    </tr>\n",
       "  </thead>\n",
       "  <tbody>\n",
       "    <tr>\n",
       "      <th>2011-09-06</th>\n",
       "      <td>379.74</td>\n",
       "      <td>64.64</td>\n",
       "      <td>1165.24</td>\n",
       "      <td>71.15</td>\n",
       "    </tr>\n",
       "    <tr>\n",
       "      <th>2011-09-07</th>\n",
       "      <td>383.93</td>\n",
       "      <td>65.43</td>\n",
       "      <td>1198.62</td>\n",
       "      <td>73.65</td>\n",
       "    </tr>\n",
       "    <tr>\n",
       "      <th>2011-09-08</th>\n",
       "      <td>384.14</td>\n",
       "      <td>64.95</td>\n",
       "      <td>1185.90</td>\n",
       "      <td>72.82</td>\n",
       "    </tr>\n",
       "    <tr>\n",
       "      <th>2011-09-09</th>\n",
       "      <td>377.48</td>\n",
       "      <td>63.64</td>\n",
       "      <td>1154.23</td>\n",
       "      <td>71.01</td>\n",
       "    </tr>\n",
       "    <tr>\n",
       "      <th>2011-09-12</th>\n",
       "      <td>379.94</td>\n",
       "      <td>63.59</td>\n",
       "      <td>1162.27</td>\n",
       "      <td>71.84</td>\n",
       "    </tr>\n",
       "    <tr>\n",
       "      <th>2011-09-13</th>\n",
       "      <td>384.62</td>\n",
       "      <td>63.61</td>\n",
       "      <td>1172.87</td>\n",
       "      <td>71.65</td>\n",
       "    </tr>\n",
       "    <tr>\n",
       "      <th>2011-09-14</th>\n",
       "      <td>389.30</td>\n",
       "      <td>63.73</td>\n",
       "      <td>1188.68</td>\n",
       "      <td>72.64</td>\n",
       "    </tr>\n",
       "  </tbody>\n",
       "</table>\n",
       "</div>"
      ],
      "text/plain": [
       "              AAPL    JNJ      SPX    XOM\n",
       "2011-09-06  379.74  64.64  1165.24  71.15\n",
       "2011-09-07  383.93  65.43  1198.62  73.65\n",
       "2011-09-08  384.14  64.95  1185.90  72.82\n",
       "2011-09-09  377.48  63.64  1154.23  71.01\n",
       "2011-09-12  379.94  63.59  1162.27  71.84\n",
       "2011-09-13  384.62  63.61  1172.87  71.65\n",
       "2011-09-14  389.30  63.73  1188.68  72.64"
      ]
     },
     "execution_count": 38,
     "metadata": {},
     "output_type": "execute_result"
    }
   ],
   "source": [
    "prices=pd.read_csv(path +'/datasets/ch11_data/stock_px.csv',engine = 'python',parse_dates=True,index_col=0)\n",
    "prices=prices.loc['2011-09-06':'2011-09-14',['AAPL','JNJ','SPX','XOM']]\n",
    "prices"
   ]
  },
  {
   "cell_type": "code",
   "execution_count": 39,
   "metadata": {},
   "outputs": [
    {
     "data": {
      "text/html": [
       "<div>\n",
       "<style scoped>\n",
       "    .dataframe tbody tr th:only-of-type {\n",
       "        vertical-align: middle;\n",
       "    }\n",
       "\n",
       "    .dataframe tbody tr th {\n",
       "        vertical-align: top;\n",
       "    }\n",
       "\n",
       "    .dataframe thead th {\n",
       "        text-align: right;\n",
       "    }\n",
       "</style>\n",
       "<table border=\"1\" class=\"dataframe\">\n",
       "  <thead>\n",
       "    <tr style=\"text-align: right;\">\n",
       "      <th></th>\n",
       "      <th>AAPL</th>\n",
       "      <th>JNJ</th>\n",
       "      <th>XOM</th>\n",
       "    </tr>\n",
       "  </thead>\n",
       "  <tbody>\n",
       "    <tr>\n",
       "      <th>2011-09-06</th>\n",
       "      <td>18173500.0</td>\n",
       "      <td>15848300.0</td>\n",
       "      <td>25416300.0</td>\n",
       "    </tr>\n",
       "    <tr>\n",
       "      <th>2011-09-07</th>\n",
       "      <td>12492000.0</td>\n",
       "      <td>10759700.0</td>\n",
       "      <td>23108400.0</td>\n",
       "    </tr>\n",
       "    <tr>\n",
       "      <th>2011-09-08</th>\n",
       "      <td>14839800.0</td>\n",
       "      <td>15551500.0</td>\n",
       "      <td>22434800.0</td>\n",
       "    </tr>\n",
       "    <tr>\n",
       "      <th>2011-09-09</th>\n",
       "      <td>20171900.0</td>\n",
       "      <td>17008200.0</td>\n",
       "      <td>27969100.0</td>\n",
       "    </tr>\n",
       "    <tr>\n",
       "      <th>2011-09-12</th>\n",
       "      <td>16697300.0</td>\n",
       "      <td>13448200.0</td>\n",
       "      <td>26205800.0</td>\n",
       "    </tr>\n",
       "  </tbody>\n",
       "</table>\n",
       "</div>"
      ],
      "text/plain": [
       "                  AAPL         JNJ         XOM\n",
       "2011-09-06  18173500.0  15848300.0  25416300.0\n",
       "2011-09-07  12492000.0  10759700.0  23108400.0\n",
       "2011-09-08  14839800.0  15551500.0  22434800.0\n",
       "2011-09-09  20171900.0  17008200.0  27969100.0\n",
       "2011-09-12  16697300.0  13448200.0  26205800.0"
      ]
     },
     "execution_count": 39,
     "metadata": {},
     "output_type": "execute_result"
    }
   ],
   "source": [
    "volume=pd.read_csv(path +'/datasets/ch11_data/volume.csv',engine = 'python',parse_dates=True,index_col=0)\n",
    "volume=volume.loc['2011-09-06':'2011-09-12',['AAPL','JNJ','XOM']]\n",
    "volume"
   ]
  },
  {
   "cell_type": "code",
   "execution_count": 41,
   "metadata": {},
   "outputs": [
    {
     "data": {
      "text/html": [
       "<div>\n",
       "<style scoped>\n",
       "    .dataframe tbody tr th:only-of-type {\n",
       "        vertical-align: middle;\n",
       "    }\n",
       "\n",
       "    .dataframe tbody tr th {\n",
       "        vertical-align: top;\n",
       "    }\n",
       "\n",
       "    .dataframe thead th {\n",
       "        text-align: right;\n",
       "    }\n",
       "</style>\n",
       "<table border=\"1\" class=\"dataframe\">\n",
       "  <thead>\n",
       "    <tr style=\"text-align: right;\">\n",
       "      <th></th>\n",
       "      <th>AAPL</th>\n",
       "      <th>JNJ</th>\n",
       "      <th>SPX</th>\n",
       "      <th>XOM</th>\n",
       "    </tr>\n",
       "  </thead>\n",
       "  <tbody>\n",
       "    <tr>\n",
       "      <th>2011-09-06</th>\n",
       "      <td>6.901205e+09</td>\n",
       "      <td>1.024434e+09</td>\n",
       "      <td>NaN</td>\n",
       "      <td>1.808370e+09</td>\n",
       "    </tr>\n",
       "    <tr>\n",
       "      <th>2011-09-07</th>\n",
       "      <td>4.796054e+09</td>\n",
       "      <td>7.040072e+08</td>\n",
       "      <td>NaN</td>\n",
       "      <td>1.701934e+09</td>\n",
       "    </tr>\n",
       "    <tr>\n",
       "      <th>2011-09-08</th>\n",
       "      <td>5.700561e+09</td>\n",
       "      <td>1.010070e+09</td>\n",
       "      <td>NaN</td>\n",
       "      <td>1.633702e+09</td>\n",
       "    </tr>\n",
       "    <tr>\n",
       "      <th>2011-09-09</th>\n",
       "      <td>7.614489e+09</td>\n",
       "      <td>1.082402e+09</td>\n",
       "      <td>NaN</td>\n",
       "      <td>1.986086e+09</td>\n",
       "    </tr>\n",
       "    <tr>\n",
       "      <th>2011-09-12</th>\n",
       "      <td>6.343972e+09</td>\n",
       "      <td>8.551710e+08</td>\n",
       "      <td>NaN</td>\n",
       "      <td>1.882625e+09</td>\n",
       "    </tr>\n",
       "    <tr>\n",
       "      <th>2011-09-13</th>\n",
       "      <td>NaN</td>\n",
       "      <td>NaN</td>\n",
       "      <td>NaN</td>\n",
       "      <td>NaN</td>\n",
       "    </tr>\n",
       "    <tr>\n",
       "      <th>2011-09-14</th>\n",
       "      <td>NaN</td>\n",
       "      <td>NaN</td>\n",
       "      <td>NaN</td>\n",
       "      <td>NaN</td>\n",
       "    </tr>\n",
       "  </tbody>\n",
       "</table>\n",
       "</div>"
      ],
      "text/plain": [
       "                    AAPL           JNJ  SPX           XOM\n",
       "2011-09-06  6.901205e+09  1.024434e+09  NaN  1.808370e+09\n",
       "2011-09-07  4.796054e+09  7.040072e+08  NaN  1.701934e+09\n",
       "2011-09-08  5.700561e+09  1.010070e+09  NaN  1.633702e+09\n",
       "2011-09-09  7.614489e+09  1.082402e+09  NaN  1.986086e+09\n",
       "2011-09-12  6.343972e+09  8.551710e+08  NaN  1.882625e+09\n",
       "2011-09-13           NaN           NaN  NaN           NaN\n",
       "2011-09-14           NaN           NaN  NaN           NaN"
      ]
     },
     "execution_count": 41,
     "metadata": {},
     "output_type": "execute_result"
    }
   ],
   "source": [
    "# 计算一个成交量加权平均价格(为了简单起见，假设成交量数据是价值数据的子集)\n",
    "prices*volume"
   ]
  },
  {
   "cell_type": "code",
   "execution_count": 42,
   "metadata": {},
   "outputs": [
    {
     "data": {
      "text/plain": [
       "AAPL    380.655181\n",
       "JNJ      64.394769\n",
       "SPX            NaN\n",
       "XOM      72.024288\n",
       "dtype: float64"
      ]
     },
     "execution_count": 42,
     "metadata": {},
     "output_type": "execute_result"
    }
   ],
   "source": [
    "vwap = (prices*volume).sum()/volume.sum()\n",
    "vwap"
   ]
  },
  {
   "cell_type": "code",
   "execution_count": 43,
   "metadata": {},
   "outputs": [
    {
     "data": {
      "text/plain": [
       "AAPL    380.655181\n",
       "JNJ      64.394769\n",
       "XOM      72.024288\n",
       "dtype: float64"
      ]
     },
     "execution_count": 43,
     "metadata": {},
     "output_type": "execute_result"
    }
   ],
   "source": [
    "vwap.dropna()"
   ]
  },
  {
   "cell_type": "code",
   "execution_count": 44,
   "metadata": {},
   "outputs": [
    {
     "data": {
      "text/plain": [
       "(              AAPL    JNJ    XOM\n",
       " 2011-09-06  379.74  64.64  71.15\n",
       " 2011-09-07  383.93  65.43  73.65\n",
       " 2011-09-08  384.14  64.95  72.82\n",
       " 2011-09-09  377.48  63.64  71.01\n",
       " 2011-09-12  379.94  63.59  71.84,\n",
       "                   AAPL         JNJ         XOM\n",
       " 2011-09-06  18173500.0  15848300.0  25416300.0\n",
       " 2011-09-07  12492000.0  10759700.0  23108400.0\n",
       " 2011-09-08  14839800.0  15551500.0  22434800.0\n",
       " 2011-09-09  20171900.0  17008200.0  27969100.0\n",
       " 2011-09-12  16697300.0  13448200.0  26205800.0)"
      ]
     },
     "execution_count": 44,
     "metadata": {},
     "output_type": "execute_result"
    }
   ],
   "source": [
    "# SPX在volume中找不到，可以直接丢弃。\n",
    "# 如果希望手工对齐，可以使用DataFrame的align方法，它返回的是一个元组，含有两个对象的重索引版本\n",
    "prices.align(volume,join='inner')"
   ]
  },
  {
   "cell_type": "code",
   "execution_count": 45,
   "metadata": {},
   "outputs": [
    {
     "data": {
      "text/html": [
       "<div>\n",
       "<style scoped>\n",
       "    .dataframe tbody tr th:only-of-type {\n",
       "        vertical-align: middle;\n",
       "    }\n",
       "\n",
       "    .dataframe tbody tr th {\n",
       "        vertical-align: top;\n",
       "    }\n",
       "\n",
       "    .dataframe thead th {\n",
       "        text-align: right;\n",
       "    }\n",
       "</style>\n",
       "<table border=\"1\" class=\"dataframe\">\n",
       "  <thead>\n",
       "    <tr style=\"text-align: right;\">\n",
       "      <th></th>\n",
       "      <th>one</th>\n",
       "      <th>three</th>\n",
       "      <th>two</th>\n",
       "    </tr>\n",
       "  </thead>\n",
       "  <tbody>\n",
       "    <tr>\n",
       "      <th>a</th>\n",
       "      <td>0.0</td>\n",
       "      <td>1.0</td>\n",
       "      <td>s2</td>\n",
       "    </tr>\n",
       "    <tr>\n",
       "      <th>b</th>\n",
       "      <td>1.0</td>\n",
       "      <td>NaN</td>\n",
       "      <td>s2</td>\n",
       "    </tr>\n",
       "    <tr>\n",
       "      <th>c</th>\n",
       "      <td>2.0</td>\n",
       "      <td>2.0</td>\n",
       "      <td>s2</td>\n",
       "    </tr>\n",
       "    <tr>\n",
       "      <th>f</th>\n",
       "      <td>NaN</td>\n",
       "      <td>0.0</td>\n",
       "      <td>s2</td>\n",
       "    </tr>\n",
       "  </tbody>\n",
       "</table>\n",
       "</div>"
      ],
      "text/plain": [
       "   one  three two\n",
       "a  0.0    1.0  s2\n",
       "b  1.0    NaN  s2\n",
       "c  2.0    2.0  s2\n",
       "f  NaN    0.0  s2"
      ]
     },
     "execution_count": 45,
     "metadata": {},
     "output_type": "execute_result"
    }
   ],
   "source": [
    "# 通过一组可能不同的索引的Series构建一个DataFrame\n",
    "s1 = pd.Series(range(3),index=['a','b','c'])\n",
    "s2 = pd.Series(range(4),index=['d','b','c','e'])\n",
    "s3 = pd.Series(range(3),index=['f','a','c'])\n",
    "pd.DataFrame({'one':s1,'two':'s2','three':s3})"
   ]
  },
  {
   "cell_type": "code",
   "execution_count": 46,
   "metadata": {},
   "outputs": [
    {
     "data": {
      "text/html": [
       "<div>\n",
       "<style scoped>\n",
       "    .dataframe tbody tr th:only-of-type {\n",
       "        vertical-align: middle;\n",
       "    }\n",
       "\n",
       "    .dataframe tbody tr th {\n",
       "        vertical-align: top;\n",
       "    }\n",
       "\n",
       "    .dataframe thead th {\n",
       "        text-align: right;\n",
       "    }\n",
       "</style>\n",
       "<table border=\"1\" class=\"dataframe\">\n",
       "  <thead>\n",
       "    <tr style=\"text-align: right;\">\n",
       "      <th></th>\n",
       "      <th>one</th>\n",
       "      <th>three</th>\n",
       "      <th>two</th>\n",
       "    </tr>\n",
       "  </thead>\n",
       "  <tbody>\n",
       "    <tr>\n",
       "      <th>f</th>\n",
       "      <td>NaN</td>\n",
       "      <td>0.0</td>\n",
       "      <td>NaN</td>\n",
       "    </tr>\n",
       "    <tr>\n",
       "      <th>a</th>\n",
       "      <td>0.0</td>\n",
       "      <td>1.0</td>\n",
       "      <td>NaN</td>\n",
       "    </tr>\n",
       "    <tr>\n",
       "      <th>c</th>\n",
       "      <td>2.0</td>\n",
       "      <td>2.0</td>\n",
       "      <td>2.0</td>\n",
       "    </tr>\n",
       "    <tr>\n",
       "      <th>e</th>\n",
       "      <td>NaN</td>\n",
       "      <td>NaN</td>\n",
       "      <td>3.0</td>\n",
       "    </tr>\n",
       "  </tbody>\n",
       "</table>\n",
       "</div>"
      ],
      "text/plain": [
       "   one  three  two\n",
       "f  NaN    0.0  NaN\n",
       "a  0.0    1.0  NaN\n",
       "c  2.0    2.0  2.0\n",
       "e  NaN    NaN  3.0"
      ]
     },
     "execution_count": 46,
     "metadata": {},
     "output_type": "execute_result"
    }
   ],
   "source": [
    "# 也可以显示定义结果的索引（丢弃其余数据）\n",
    "pd.DataFrame({'one':s1,'two':s2,'three':s3},index=list('face'))  # 只保留部分索引的数据"
   ]
  },
  {
   "cell_type": "markdown",
   "metadata": {},
   "source": [
    "# 频率不同的时间序列的运算\n",
    "频率转换和重对齐的两大工具是resample和reindex\n",
    "- resample用于将数据转换到固定频率\n",
    "- reindex用于使数据符合一个新索引\n",
    "- 都支持插值（如前向填充）逻辑"
   ]
  },
  {
   "cell_type": "code",
   "execution_count": 47,
   "metadata": {},
   "outputs": [
    {
     "data": {
      "text/plain": [
       "2012-06-13    1.063746\n",
       "2012-06-20   -0.417105\n",
       "2012-06-27    1.050647\n",
       "Freq: W-WED, dtype: float64"
      ]
     },
     "execution_count": 47,
     "metadata": {},
     "output_type": "execute_result"
    }
   ],
   "source": [
    "# 周型时间序列\n",
    "ts1 = pd.Series(np.random.randn(3),index=pd.date_range('2012-6-13',periods=3,freq='W-WED'))\n",
    "ts1"
   ]
  },
  {
   "cell_type": "code",
   "execution_count": 49,
   "metadata": {},
   "outputs": [
    {
     "data": {
      "text/plain": [
       "2012-06-13    1.063746\n",
       "2012-06-14         NaN\n",
       "2012-06-15         NaN\n",
       "2012-06-18         NaN\n",
       "2012-06-19         NaN\n",
       "2012-06-20   -0.417105\n",
       "2012-06-21         NaN\n",
       "2012-06-22         NaN\n",
       "2012-06-25         NaN\n",
       "2012-06-26         NaN\n",
       "2012-06-27    1.050647\n",
       "Freq: B, dtype: float64"
      ]
     },
     "execution_count": 49,
     "metadata": {},
     "output_type": "execute_result"
    }
   ],
   "source": [
    "# 如果将其重采样到工作日（星期一到星期五）频率，则那些没有数据的日子就会出现一个“空洞”\n",
    "ts1.resample('B').asfreq()"
   ]
  },
  {
   "cell_type": "code",
   "execution_count": 50,
   "metadata": {},
   "outputs": [
    {
     "name": "stderr",
     "output_type": "stream",
     "text": [
      "D:\\Python\\anaconda\\lib\\site-packages\\ipykernel_launcher.py:2: FutureWarning: fill_method is deprecated to .resample()\n",
      "the new syntax is .resample(...).ffill()\n",
      "  \n"
     ]
    },
    {
     "data": {
      "text/plain": [
       "2012-06-13    1.063746\n",
       "2012-06-14    1.063746\n",
       "2012-06-15    1.063746\n",
       "2012-06-18    1.063746\n",
       "2012-06-19    1.063746\n",
       "2012-06-20   -0.417105\n",
       "2012-06-21   -0.417105\n",
       "2012-06-22   -0.417105\n",
       "2012-06-25   -0.417105\n",
       "2012-06-26   -0.417105\n",
       "2012-06-27    1.050647\n",
       "Freq: B, dtype: float64"
      ]
     },
     "execution_count": 50,
     "metadata": {},
     "output_type": "execute_result"
    }
   ],
   "source": [
    "# 只需将fill_method设置为‘ffill’即可用起那么的值填充这些空白\n",
    "ts1.resample('B',fill_method='ffill')"
   ]
  },
  {
   "cell_type": "code",
   "execution_count": 51,
   "metadata": {},
   "outputs": [
    {
     "data": {
      "text/plain": [
       "2012-06-12   -0.770483\n",
       "2012-06-17    0.319822\n",
       "2012-06-18   -1.141505\n",
       "2012-06-21    1.728708\n",
       "2012-06-22    1.991976\n",
       "2012-06-29    2.072726\n",
       "dtype: float64"
      ]
     },
     "execution_count": 51,
     "metadata": {},
     "output_type": "execute_result"
    }
   ],
   "source": [
    "# 将较低频率的数据升采样到较高的规整频率是一种不错的解决方案\n",
    "# 但对于不规整时间序列，如下\n",
    "dates = pd.DatetimeIndex(['2012-6-12','2012-6-17','2012-6-18','2012-6-21','2012-6-22','2012-6-29'])\n",
    "ts2 = pd.Series(np.random.randn(6),index=dates)\n",
    "ts2"
   ]
  },
  {
   "cell_type": "code",
   "execution_count": 52,
   "metadata": {},
   "outputs": [
    {
     "data": {
      "text/plain": [
       "2012-06-12         NaN\n",
       "2012-06-17    1.063746\n",
       "2012-06-18    1.063746\n",
       "2012-06-21   -0.417105\n",
       "2012-06-22   -0.417105\n",
       "2012-06-29    1.050647\n",
       "dtype: float64"
      ]
     },
     "execution_count": 52,
     "metadata": {},
     "output_type": "execute_result"
    }
   ],
   "source": [
    "# 如果要将ts1中‘当前值’(即前向填充)加到ts2.\n",
    "# 一个办法是将两者重采用为规整频率后再相加，但是，如果想维持ts2的日期索引，则reindex是一种更好的解决方法\n",
    "ts1.reindex(ts2.index,method='ffill')"
   ]
  },
  {
   "cell_type": "code",
   "execution_count": 53,
   "metadata": {},
   "outputs": [
    {
     "data": {
      "text/plain": [
       "2012-06-12         NaN\n",
       "2012-06-17    1.383567\n",
       "2012-06-18   -0.077759\n",
       "2012-06-21    1.311603\n",
       "2012-06-22    1.574871\n",
       "2012-06-29    3.123373\n",
       "dtype: float64"
      ]
     },
     "execution_count": 53,
     "metadata": {},
     "output_type": "execute_result"
    }
   ],
   "source": [
    "ts2+ts1.reindex(ts2.index,method='ffill')"
   ]
  },
  {
   "cell_type": "markdown",
   "metadata": {},
   "source": [
    "## 使用Period\n",
    "Period（表示时间区间）提供另一种处理不同频率时间序列的方法，尤其是那些有着特殊规范的以年或季度为频率的金融或经济序列。比如：一个公司可能会发布其以6月结尾的财年的每季度盈利报告，即频率为Q-JUN。"
   ]
  },
  {
   "cell_type": "code",
   "execution_count": 54,
   "metadata": {},
   "outputs": [
    {
     "data": {
      "text/plain": [
       "1984Q2    1.78\n",
       "1984Q3    1.94\n",
       "1984Q4    2.08\n",
       "1985Q1    2.01\n",
       "1985Q2    2.15\n",
       "1985Q3    2.31\n",
       "1985Q4    2.46\n",
       "Freq: Q-SEP, dtype: float64"
      ]
     },
     "execution_count": 54,
     "metadata": {},
     "output_type": "execute_result"
    }
   ],
   "source": [
    "# 以下是两个有关GDP和通货膨胀的宏观经济时间序列\n",
    "gdp = pd.Series([1.78,1.94,2.08,2.01,2.15,2.31,2.46],\n",
    "                index = pd.period_range('1984Q2',periods=7,freq='Q-SEP'))\n",
    "infl = pd.Series([0.025,0.045,0.037,0.04],\n",
    "                 index = pd.period_range('1982',periods=4,freq='A-DEC'))\n",
    "gdp"
   ]
  },
  {
   "cell_type": "code",
   "execution_count": 55,
   "metadata": {},
   "outputs": [
    {
     "data": {
      "text/plain": [
       "1982    0.025\n",
       "1983    0.045\n",
       "1984    0.037\n",
       "1985    0.040\n",
       "Freq: A-DEC, dtype: float64"
      ]
     },
     "execution_count": 55,
     "metadata": {},
     "output_type": "execute_result"
    }
   ],
   "source": [
    "infl"
   ]
  },
  {
   "cell_type": "code",
   "execution_count": 57,
   "metadata": {},
   "outputs": [
    {
     "data": {
      "text/plain": [
       "1983Q1    0.025\n",
       "1984Q1    0.045\n",
       "1985Q1    0.037\n",
       "1986Q1    0.040\n",
       "Freq: Q-SEP, dtype: float64"
      ]
     },
     "execution_count": 57,
     "metadata": {},
     "output_type": "execute_result"
    }
   ],
   "source": [
    "# 跟Timestamp的时间序列不同，由Period索引的两个不同频率的时间序列之间的运算必须进行显式转换\n",
    "# infl值是每年年末观测的，可以将其转换到Q-SEP以得到该频率下的正确时期\n",
    "infl_q = infl.asfreq('Q-SEP',how='end')\n",
    "infl_q"
   ]
  },
  {
   "cell_type": "code",
   "execution_count": 58,
   "metadata": {},
   "outputs": [
    {
     "data": {
      "text/plain": [
       "1984Q2    0.045\n",
       "1984Q3    0.045\n",
       "1984Q4    0.045\n",
       "1985Q1    0.037\n",
       "1985Q2    0.037\n",
       "1985Q3    0.037\n",
       "1985Q4    0.037\n",
       "Freq: Q-SEP, dtype: float64"
      ]
     },
     "execution_count": 58,
     "metadata": {},
     "output_type": "execute_result"
    }
   ],
   "source": [
    "# 然后这个时间序列就可以被重索引了（使用前向填充以匹配gdp）\n",
    "infl_q.reindex(gdp.index,method='ffill')"
   ]
  },
  {
   "cell_type": "markdown",
   "metadata": {},
   "source": [
    "# 时间和“最当前”数据选取\n",
    "从数据中抽取每天特定时间的数据"
   ]
  },
  {
   "cell_type": "code",
   "execution_count": 71,
   "metadata": {},
   "outputs": [
    {
     "data": {
      "text/plain": [
       "DatetimeIndex(['2012-06-01 09:30:00', '2012-06-01 09:31:00',\n",
       "               '2012-06-01 09:32:00', '2012-06-01 09:33:00',\n",
       "               '2012-06-01 09:34:00', '2012-06-01 09:35:00',\n",
       "               '2012-06-01 09:36:00', '2012-06-01 09:37:00',\n",
       "               '2012-06-01 09:38:00', '2012-06-01 09:39:00',\n",
       "               ...\n",
       "               '2012-06-01 15:50:00', '2012-06-01 15:51:00',\n",
       "               '2012-06-01 15:52:00', '2012-06-01 15:53:00',\n",
       "               '2012-06-01 15:54:00', '2012-06-01 15:55:00',\n",
       "               '2012-06-01 15:56:00', '2012-06-01 15:57:00',\n",
       "               '2012-06-01 15:58:00', '2012-06-01 15:59:00'],\n",
       "              dtype='datetime64[ns]', length=390, freq='T')"
      ]
     },
     "execution_count": 71,
     "metadata": {},
     "output_type": "execute_result"
    }
   ],
   "source": [
    "# 生成一个交易日内的日期范围和时间序列\n",
    "rng = pd.date_range('2012-06-01 09:30','2012-06-01 15:59',freq='T')  #freq='T':按分钟\n",
    "rng"
   ]
  },
  {
   "cell_type": "code",
   "execution_count": 75,
   "metadata": {},
   "outputs": [
    {
     "data": {
      "text/plain": [
       "DatetimeIndex(['2012-06-01 09:30:00', '2012-06-01 09:31:00',\n",
       "               '2012-06-01 09:32:00', '2012-06-01 09:33:00',\n",
       "               '2012-06-01 09:34:00', '2012-06-01 09:35:00',\n",
       "               '2012-06-01 09:36:00', '2012-06-01 09:37:00',\n",
       "               '2012-06-01 09:38:00', '2012-06-01 09:39:00',\n",
       "               ...\n",
       "               '2012-06-06 15:50:00', '2012-06-06 15:51:00',\n",
       "               '2012-06-06 15:52:00', '2012-06-06 15:53:00',\n",
       "               '2012-06-06 15:54:00', '2012-06-06 15:55:00',\n",
       "               '2012-06-06 15:56:00', '2012-06-06 15:57:00',\n",
       "               '2012-06-06 15:58:00', '2012-06-06 15:59:00'],\n",
       "              dtype='datetime64[ns]', length=1560, freq=None)"
      ]
     },
     "execution_count": 75,
     "metadata": {},
     "output_type": "execute_result"
    }
   ],
   "source": [
    "# 生成4天的时间点（9:30 ~ 15:59 之间的值）\n",
    "# pd.offsets.BDay(1)：添加一个工作日\n",
    "rng = rng.append([rng + pd.offsets.BDay(i) for i in range(1,4)])  # 增加三个工作日：6.4,6.5,6.6\n",
    "rng"
   ]
  },
  {
   "cell_type": "code",
   "execution_count": 76,
   "metadata": {},
   "outputs": [
    {
     "data": {
      "text/plain": [
       "2012-06-01 09:30:00       0.0\n",
       "2012-06-01 09:31:00       1.0\n",
       "2012-06-01 09:32:00       2.0\n",
       "2012-06-01 09:33:00       3.0\n",
       "2012-06-01 09:34:00       4.0\n",
       "2012-06-01 09:35:00       5.0\n",
       "2012-06-01 09:36:00       6.0\n",
       "2012-06-01 09:37:00       7.0\n",
       "2012-06-01 09:38:00       8.0\n",
       "2012-06-01 09:39:00       9.0\n",
       "2012-06-01 09:40:00      10.0\n",
       "2012-06-01 09:41:00      11.0\n",
       "2012-06-01 09:42:00      12.0\n",
       "2012-06-01 09:43:00      13.0\n",
       "2012-06-01 09:44:00      14.0\n",
       "2012-06-01 09:45:00      15.0\n",
       "2012-06-01 09:46:00      16.0\n",
       "2012-06-01 09:47:00      17.0\n",
       "2012-06-01 09:48:00      18.0\n",
       "2012-06-01 09:49:00      19.0\n",
       "2012-06-01 09:50:00      20.0\n",
       "2012-06-01 09:51:00      21.0\n",
       "2012-06-01 09:52:00      22.0\n",
       "2012-06-01 09:53:00      23.0\n",
       "2012-06-01 09:54:00      24.0\n",
       "2012-06-01 09:55:00      25.0\n",
       "2012-06-01 09:56:00      26.0\n",
       "2012-06-01 09:57:00      27.0\n",
       "2012-06-01 09:58:00      28.0\n",
       "2012-06-01 09:59:00      29.0\n",
       "                        ...  \n",
       "2012-06-06 15:30:00    1530.0\n",
       "2012-06-06 15:31:00    1531.0\n",
       "2012-06-06 15:32:00    1532.0\n",
       "2012-06-06 15:33:00    1533.0\n",
       "2012-06-06 15:34:00    1534.0\n",
       "2012-06-06 15:35:00    1535.0\n",
       "2012-06-06 15:36:00    1536.0\n",
       "2012-06-06 15:37:00    1537.0\n",
       "2012-06-06 15:38:00    1538.0\n",
       "2012-06-06 15:39:00    1539.0\n",
       "2012-06-06 15:40:00    1540.0\n",
       "2012-06-06 15:41:00    1541.0\n",
       "2012-06-06 15:42:00    1542.0\n",
       "2012-06-06 15:43:00    1543.0\n",
       "2012-06-06 15:44:00    1544.0\n",
       "2012-06-06 15:45:00    1545.0\n",
       "2012-06-06 15:46:00    1546.0\n",
       "2012-06-06 15:47:00    1547.0\n",
       "2012-06-06 15:48:00    1548.0\n",
       "2012-06-06 15:49:00    1549.0\n",
       "2012-06-06 15:50:00    1550.0\n",
       "2012-06-06 15:51:00    1551.0\n",
       "2012-06-06 15:52:00    1552.0\n",
       "2012-06-06 15:53:00    1553.0\n",
       "2012-06-06 15:54:00    1554.0\n",
       "2012-06-06 15:55:00    1555.0\n",
       "2012-06-06 15:56:00    1556.0\n",
       "2012-06-06 15:57:00    1557.0\n",
       "2012-06-06 15:58:00    1558.0\n",
       "2012-06-06 15:59:00    1559.0\n",
       "Length: 1560, dtype: float64"
      ]
     },
     "execution_count": 76,
     "metadata": {},
     "output_type": "execute_result"
    }
   ],
   "source": [
    "ts = pd.Series(np.arange(len(rng),dtype=float),index=rng)\n",
    "ts"
   ]
  },
  {
   "cell_type": "code",
   "execution_count": 77,
   "metadata": {},
   "outputs": [
    {
     "data": {
      "text/plain": [
       "2012-06-01 10:00:00      30.0\n",
       "2012-06-04 10:00:00     420.0\n",
       "2012-06-05 10:00:00     810.0\n",
       "2012-06-06 10:00:00    1200.0\n",
       "dtype: float64"
      ]
     },
     "execution_count": 77,
     "metadata": {},
     "output_type": "execute_result"
    }
   ],
   "source": [
    "# 利用python的datetime.time对象进行索引即可抽取出这些点上的值\n",
    "from datetime import time\n",
    "ts[time(10,0)]  #  抽取10点的数据"
   ]
  },
  {
   "cell_type": "code",
   "execution_count": 78,
   "metadata": {},
   "outputs": [
    {
     "data": {
      "text/plain": [
       "2012-06-01 10:00:00      30.0\n",
       "2012-06-04 10:00:00     420.0\n",
       "2012-06-05 10:00:00     810.0\n",
       "2012-06-06 10:00:00    1200.0\n",
       "dtype: float64"
      ]
     },
     "execution_count": 78,
     "metadata": {},
     "output_type": "execute_result"
    }
   ],
   "source": [
    "# 实际上，该操作用到了实例方法at_time（各时间序列以及类似的DataFrame对象都有）\n",
    "ts.at_time(time(10,0))"
   ]
  },
  {
   "cell_type": "code",
   "execution_count": 79,
   "metadata": {},
   "outputs": [
    {
     "data": {
      "text/plain": [
       "2012-06-01 10:00:00      30.0\n",
       "2012-06-01 10:01:00      31.0\n",
       "2012-06-04 10:00:00     420.0\n",
       "2012-06-04 10:01:00     421.0\n",
       "2012-06-05 10:00:00     810.0\n",
       "2012-06-05 10:01:00     811.0\n",
       "2012-06-06 10:00:00    1200.0\n",
       "2012-06-06 10:01:00    1201.0\n",
       "dtype: float64"
      ]
     },
     "execution_count": 79,
     "metadata": {},
     "output_type": "execute_result"
    }
   ],
   "source": [
    "# between_time方法是用于选取两个Time对象之间的值\n",
    "ts.between_time(time(10,0),time(10,1))  # 抽取出10点到10点零一分钟之间的值，包含两个边界的数据"
   ]
  },
  {
   "cell_type": "code",
   "execution_count": 82,
   "metadata": {},
   "outputs": [
    {
     "data": {
      "text/plain": [
       "array([   0,    1,    2,    4,    5,    7,    8,   10,   12,   13,   15,\n",
       "         16,   17,   19,   20,   21,   26,   27,   28,   29,   31,   32,\n",
       "         33,   35,   36,   38,   44,   47,   48,   49,   50,   54,   55,\n",
       "         63,   67,   68,   69,   73,   74,   76,   78,   80,   82,   84,\n",
       "         86,   89,   91,   93,   95,   98,  101,  109,  114,  122,  124,\n",
       "        125,  129,  131,  132,  133,  137,  139,  141,  142,  143,  145,\n",
       "        147,  152,  153,  154,  155,  156,  159,  160,  162,  165,  167,\n",
       "        168,  169,  170,  171,  172,  173,  176,  177,  178,  182,  183,\n",
       "        184,  185,  186,  187,  189,  190,  192,  193,  197,  202,  203,\n",
       "        204,  205,  206,  207,  209,  210,  211,  212,  213,  215,  216,\n",
       "        219,  221,  223,  224,  225,  226,  229,  231,  232,  236,  238,\n",
       "        242,  245,  247,  249,  250,  251,  252,  253,  254,  255,  257,\n",
       "        258,  260,  261,  263,  264,  265,  268,  272,  273,  275,  277,\n",
       "        281,  282,  284,  286,  287,  288,  292,  294,  297,  305,  306,\n",
       "        307,  308,  311,  313,  314,  315,  317,  318,  319,  320,  321,\n",
       "        322,  323,  329,  331,  332,  334,  339,  341,  344,  346,  347,\n",
       "        349,  351,  353,  355,  356,  361,  362,  363,  367,  368,  370,\n",
       "        372,  374,  376,  379,  380,  381,  382,  383,  384,  389,  390,\n",
       "        391,  392,  394,  397,  398,  399,  401,  404,  406,  407,  408,\n",
       "        409,  410,  411,  412,  415,  419,  421,  423,  426,  427,  429,\n",
       "        431,  432,  433,  434,  435,  436,  438,  439,  440,  441,  443,\n",
       "        446,  447,  449,  450,  451,  454,  456,  457,  458,  459,  461,\n",
       "        463,  465,  467,  469,  470,  471,  474,  476,  477,  480,  481,\n",
       "        482,  485,  486,  489,  490,  492,  493,  494,  496,  498,  499,\n",
       "        500,  501,  502,  505,  506,  507,  510,  511,  512,  515,  516,\n",
       "        518,  520,  521,  523,  525,  529,  531,  533,  534,  535,  536,\n",
       "        540,  541,  543,  544,  545,  546,  549,  550,  551,  552,  555,\n",
       "        561,  562,  564,  565,  566,  567,  568,  569,  570,  574,  575,\n",
       "        577,  578,  579,  581,  584,  586,  588,  591,  593,  598,  599,\n",
       "        601,  605,  606,  608,  609,  610,  611,  612,  613,  615,  618,\n",
       "        620,  623,  624,  626,  630,  631,  634,  635,  636,  637,  638,\n",
       "        639,  640,  641,  644,  646,  648,  650,  651,  652,  654,  655,\n",
       "        658,  660,  661,  663,  666,  669,  671,  672,  673,  674,  675,\n",
       "        676,  678,  681,  682,  683,  685,  690,  691,  692,  693,  697,\n",
       "        698,  699,  700,  701,  703,  704,  706,  707,  709,  710,  711,\n",
       "        712,  713,  717,  718,  719,  721,  722,  723,  725,  727,  728,\n",
       "        730,  732,  733,  736,  737,  741,  742,  743,  744,  745,  751,\n",
       "        752,  753,  754,  755,  756,  757,  758,  759,  760,  761,  762,\n",
       "        767,  768,  771,  772,  775,  777,  778,  780,  781,  791,  792,\n",
       "        793,  794,  797,  799,  801,  803,  804,  807,  809,  811,  813,\n",
       "        816,  818,  819,  821,  823,  824,  826,  827,  829,  830,  831,\n",
       "        832,  834,  835,  838,  840,  843,  847,  850,  852,  854,  860,\n",
       "        863,  864,  865,  867,  868,  869,  870,  871,  872,  874,  876,\n",
       "        877,  884,  885,  887,  889,  890,  891,  892,  895,  896,  897,\n",
       "        899,  900,  902,  903,  904,  905,  910,  911,  912,  913,  915,\n",
       "        918,  919,  924,  930,  933,  937,  938,  940,  941,  943,  945,\n",
       "        948,  949,  953,  954,  955,  956,  957,  961,  962,  963,  964,\n",
       "        965,  966,  968,  969,  970,  972,  974,  975,  976,  977,  978,\n",
       "        979,  980,  984,  987,  988,  989,  991,  992,  993,  995,  996,\n",
       "       1000, 1001, 1003, 1004, 1005, 1008, 1011, 1014, 1016, 1019, 1020,\n",
       "       1021, 1022, 1024, 1026, 1031, 1033, 1034, 1038, 1041, 1043, 1045,\n",
       "       1049, 1050, 1051, 1052, 1055, 1056, 1057, 1058, 1060, 1061, 1063,\n",
       "       1064, 1066, 1068, 1071, 1072, 1073, 1075, 1076, 1078, 1079, 1080,\n",
       "       1081, 1083, 1084, 1088, 1089, 1092, 1095, 1098, 1099, 1101, 1103,\n",
       "       1104, 1106, 1107, 1109, 1110, 1112, 1115, 1116, 1117, 1119, 1122,\n",
       "       1124, 1128, 1129, 1135, 1137, 1138, 1139, 1142, 1143, 1144, 1145,\n",
       "       1150, 1151, 1154, 1156, 1157, 1159, 1160, 1163, 1164, 1166, 1167,\n",
       "       1168, 1169, 1170, 1171, 1173, 1174, 1175, 1177, 1179, 1180, 1182,\n",
       "       1183, 1184, 1186, 1187, 1190, 1191, 1192, 1194, 1195, 1196, 1198,\n",
       "       1201, 1202, 1203, 1204, 1207, 1208, 1209, 1210, 1212, 1213, 1215,\n",
       "       1217, 1218, 1219, 1222, 1223, 1224, 1225, 1226, 1227, 1228, 1229,\n",
       "       1231, 1233, 1234, 1235, 1236, 1238, 1239, 1243, 1246, 1248, 1252,\n",
       "       1257, 1259, 1261, 1262, 1263, 1265, 1266, 1267, 1268, 1270, 1272,\n",
       "       1273, 1274, 1275, 1278, 1283, 1284, 1287, 1292, 1293, 1295, 1296,\n",
       "       1297, 1302, 1303, 1304, 1305, 1308, 1309, 1310, 1311, 1312, 1313,\n",
       "       1314, 1315, 1317, 1318, 1321, 1322, 1323, 1325, 1326, 1327, 1328,\n",
       "       1332, 1335, 1337, 1342, 1345, 1346, 1348, 1349, 1350, 1351, 1352,\n",
       "       1353, 1354, 1359, 1361, 1362, 1363, 1364, 1365, 1366, 1368, 1370,\n",
       "       1371, 1373, 1377, 1378, 1379, 1380, 1381, 1383, 1384, 1385, 1386,\n",
       "       1387, 1388, 1389, 1390, 1393, 1394, 1395, 1397, 1399, 1400, 1401,\n",
       "       1403, 1404, 1405, 1406, 1407, 1408, 1409, 1413, 1416, 1417, 1419,\n",
       "       1421, 1422, 1425, 1427, 1429, 1430, 1432, 1435, 1438, 1439, 1441,\n",
       "       1444, 1445, 1447, 1448, 1450, 1452, 1454, 1455, 1456, 1458, 1463,\n",
       "       1465, 1468, 1470, 1472, 1473, 1475, 1477, 1481, 1482, 1483, 1485,\n",
       "       1486, 1487, 1492, 1497, 1498, 1499, 1500, 1502, 1503, 1506, 1507,\n",
       "       1511, 1512, 1513, 1514, 1517, 1518, 1521, 1522, 1524, 1526, 1527,\n",
       "       1529, 1530, 1531, 1532, 1533, 1534, 1536, 1537, 1540, 1541, 1542,\n",
       "       1543, 1544, 1545, 1547, 1549, 1550, 1551, 1552, 1553, 1554, 1556,\n",
       "       1557, 1559])"
      ]
     },
     "execution_count": 82,
     "metadata": {},
     "output_type": "execute_result"
    }
   ],
   "source": [
    "# 可能刚好就没有任何数据落在某个具体时间上（比如上午10点），这时，希望得到上午10点之前最后出现的那个值\n",
    "# 将该时间序列的大部分内容随机设置为NA\n",
    "indexer = np.sort(np.random.permutation(len(ts))[700:])\n",
    "indexer"
   ]
  },
  {
   "cell_type": "code",
   "execution_count": 83,
   "metadata": {},
   "outputs": [
    {
     "data": {
      "text/plain": [
       "2012-06-01 09:50:00     NaN\n",
       "2012-06-01 09:51:00     NaN\n",
       "2012-06-01 09:52:00    22.0\n",
       "2012-06-01 09:53:00    23.0\n",
       "2012-06-01 09:54:00    24.0\n",
       "2012-06-01 09:55:00    25.0\n",
       "2012-06-01 09:56:00     NaN\n",
       "2012-06-01 09:57:00     NaN\n",
       "2012-06-01 09:58:00     NaN\n",
       "2012-06-01 09:59:00     NaN\n",
       "2012-06-01 10:00:00    30.0\n",
       "dtype: float64"
      ]
     },
     "execution_count": 83,
     "metadata": {},
     "output_type": "execute_result"
    }
   ],
   "source": [
    "irr_ts = ts.copy()\n",
    "irr_ts[indexer]=np.nan\n",
    "irr_ts['2012-06-01 09:50':'2012-06-01 10:00']"
   ]
  },
  {
   "cell_type": "code",
   "execution_count": 84,
   "metadata": {},
   "outputs": [
    {
     "data": {
      "text/plain": [
       "DatetimeIndex(['2012-06-01 10:00:00', '2012-06-04 10:00:00',\n",
       "               '2012-06-05 10:00:00', '2012-06-06 10:00:00'],\n",
       "              dtype='datetime64[ns]', freq='B')"
      ]
     },
     "execution_count": 84,
     "metadata": {},
     "output_type": "execute_result"
    }
   ],
   "source": [
    "# 如果将一组Timestamp传入asof方法，就能得到这些时间点处（或其之前最近）的有效值（非NA）\n",
    "# 构造一个日期范围（每天上午10点），然后将其传入asof\n",
    "selection = pd.date_range('2012-06-01 10:00',periods=4,freq='B')\n",
    "selection"
   ]
  },
  {
   "cell_type": "code",
   "execution_count": 85,
   "metadata": {},
   "outputs": [
    {
     "data": {
      "text/plain": [
       "2012-06-01 10:00:00      30.0\n",
       "2012-06-04 10:00:00     420.0\n",
       "2012-06-05 10:00:00     810.0\n",
       "2012-06-06 10:00:00    1200.0\n",
       "Freq: B, dtype: float64"
      ]
     },
     "execution_count": 85,
     "metadata": {},
     "output_type": "execute_result"
    }
   ],
   "source": [
    "irr_ts.asof(selection)"
   ]
  },
  {
   "cell_type": "markdown",
   "metadata": {},
   "source": [
    "# 拼接多个数据源\n",
    "- 在一个特定的时间点上，从一个数据源切换到另一个数据源\n",
    "- 用另一个时间序列对当前时间序列中的缺失值“打补丁”\n",
    "- 将数据中的符号（国家、资产代码等）替换为实际数据"
   ]
  },
  {
   "cell_type": "code",
   "execution_count": 86,
   "metadata": {},
   "outputs": [
    {
     "data": {
      "text/html": [
       "<div>\n",
       "<style scoped>\n",
       "    .dataframe tbody tr th:only-of-type {\n",
       "        vertical-align: middle;\n",
       "    }\n",
       "\n",
       "    .dataframe tbody tr th {\n",
       "        vertical-align: top;\n",
       "    }\n",
       "\n",
       "    .dataframe thead th {\n",
       "        text-align: right;\n",
       "    }\n",
       "</style>\n",
       "<table border=\"1\" class=\"dataframe\">\n",
       "  <thead>\n",
       "    <tr style=\"text-align: right;\">\n",
       "      <th></th>\n",
       "      <th>a</th>\n",
       "      <th>b</th>\n",
       "      <th>c</th>\n",
       "    </tr>\n",
       "  </thead>\n",
       "  <tbody>\n",
       "    <tr>\n",
       "      <th>2012-06-12</th>\n",
       "      <td>1.0</td>\n",
       "      <td>1.0</td>\n",
       "      <td>1.0</td>\n",
       "    </tr>\n",
       "    <tr>\n",
       "      <th>2012-06-13</th>\n",
       "      <td>1.0</td>\n",
       "      <td>1.0</td>\n",
       "      <td>1.0</td>\n",
       "    </tr>\n",
       "    <tr>\n",
       "      <th>2012-06-14</th>\n",
       "      <td>1.0</td>\n",
       "      <td>1.0</td>\n",
       "      <td>1.0</td>\n",
       "    </tr>\n",
       "    <tr>\n",
       "      <th>2012-06-15</th>\n",
       "      <td>1.0</td>\n",
       "      <td>1.0</td>\n",
       "      <td>1.0</td>\n",
       "    </tr>\n",
       "    <tr>\n",
       "      <th>2012-06-16</th>\n",
       "      <td>1.0</td>\n",
       "      <td>1.0</td>\n",
       "      <td>1.0</td>\n",
       "    </tr>\n",
       "    <tr>\n",
       "      <th>2012-06-17</th>\n",
       "      <td>1.0</td>\n",
       "      <td>1.0</td>\n",
       "      <td>1.0</td>\n",
       "    </tr>\n",
       "  </tbody>\n",
       "</table>\n",
       "</div>"
      ],
      "text/plain": [
       "              a    b    c\n",
       "2012-06-12  1.0  1.0  1.0\n",
       "2012-06-13  1.0  1.0  1.0\n",
       "2012-06-14  1.0  1.0  1.0\n",
       "2012-06-15  1.0  1.0  1.0\n",
       "2012-06-16  1.0  1.0  1.0\n",
       "2012-06-17  1.0  1.0  1.0"
      ]
     },
     "execution_count": 86,
     "metadata": {},
     "output_type": "execute_result"
    }
   ],
   "source": [
    "# 在特定时刻从一个时间序列切换到另一个，用concat将两个TimeSeries或DataFrame对象合并到一起\n",
    "data1 = pd.DataFrame(np.ones((6,3),dtype=float),\n",
    "                     columns=['a','b','c'],\n",
    "                     index = pd.date_range('6/12/2012',periods=6))\n",
    "data1"
   ]
  },
  {
   "cell_type": "code",
   "execution_count": 91,
   "metadata": {},
   "outputs": [
    {
     "data": {
      "text/html": [
       "<div>\n",
       "<style scoped>\n",
       "    .dataframe tbody tr th:only-of-type {\n",
       "        vertical-align: middle;\n",
       "    }\n",
       "\n",
       "    .dataframe tbody tr th {\n",
       "        vertical-align: top;\n",
       "    }\n",
       "\n",
       "    .dataframe thead th {\n",
       "        text-align: right;\n",
       "    }\n",
       "</style>\n",
       "<table border=\"1\" class=\"dataframe\">\n",
       "  <thead>\n",
       "    <tr style=\"text-align: right;\">\n",
       "      <th></th>\n",
       "      <th>a</th>\n",
       "      <th>b</th>\n",
       "      <th>c</th>\n",
       "    </tr>\n",
       "  </thead>\n",
       "  <tbody>\n",
       "    <tr>\n",
       "      <th>2012-06-13</th>\n",
       "      <td>2.0</td>\n",
       "      <td>2.0</td>\n",
       "      <td>2.0</td>\n",
       "    </tr>\n",
       "    <tr>\n",
       "      <th>2012-06-14</th>\n",
       "      <td>2.0</td>\n",
       "      <td>2.0</td>\n",
       "      <td>2.0</td>\n",
       "    </tr>\n",
       "    <tr>\n",
       "      <th>2012-06-15</th>\n",
       "      <td>2.0</td>\n",
       "      <td>2.0</td>\n",
       "      <td>2.0</td>\n",
       "    </tr>\n",
       "    <tr>\n",
       "      <th>2012-06-16</th>\n",
       "      <td>2.0</td>\n",
       "      <td>2.0</td>\n",
       "      <td>2.0</td>\n",
       "    </tr>\n",
       "    <tr>\n",
       "      <th>2012-06-17</th>\n",
       "      <td>2.0</td>\n",
       "      <td>2.0</td>\n",
       "      <td>2.0</td>\n",
       "    </tr>\n",
       "    <tr>\n",
       "      <th>2012-06-18</th>\n",
       "      <td>2.0</td>\n",
       "      <td>2.0</td>\n",
       "      <td>2.0</td>\n",
       "    </tr>\n",
       "  </tbody>\n",
       "</table>\n",
       "</div>"
      ],
      "text/plain": [
       "              a    b    c\n",
       "2012-06-13  2.0  2.0  2.0\n",
       "2012-06-14  2.0  2.0  2.0\n",
       "2012-06-15  2.0  2.0  2.0\n",
       "2012-06-16  2.0  2.0  2.0\n",
       "2012-06-17  2.0  2.0  2.0\n",
       "2012-06-18  2.0  2.0  2.0"
      ]
     },
     "execution_count": 91,
     "metadata": {},
     "output_type": "execute_result"
    }
   ],
   "source": [
    "data2 = pd.DataFrame(np.ones((6,3),dtype=float)*2,\n",
    "                     columns=['a','b','c'],\n",
    "                     index = pd.date_range('6/13/2012',periods=6))\n",
    "data2"
   ]
  },
  {
   "cell_type": "code",
   "execution_count": 92,
   "metadata": {},
   "outputs": [
    {
     "name": "stderr",
     "output_type": "stream",
     "text": [
      "D:\\Python\\anaconda\\lib\\site-packages\\ipykernel_launcher.py:1: DeprecationWarning: \n",
      ".ix is deprecated. Please use\n",
      ".loc for label based indexing or\n",
      ".iloc for positional indexing\n",
      "\n",
      "See the documentation here:\n",
      "http://pandas.pydata.org/pandas-docs/stable/indexing.html#ix-indexer-is-deprecated\n",
      "  \"\"\"Entry point for launching an IPython kernel.\n"
     ]
    },
    {
     "data": {
      "text/html": [
       "<div>\n",
       "<style scoped>\n",
       "    .dataframe tbody tr th:only-of-type {\n",
       "        vertical-align: middle;\n",
       "    }\n",
       "\n",
       "    .dataframe tbody tr th {\n",
       "        vertical-align: top;\n",
       "    }\n",
       "\n",
       "    .dataframe thead th {\n",
       "        text-align: right;\n",
       "    }\n",
       "</style>\n",
       "<table border=\"1\" class=\"dataframe\">\n",
       "  <thead>\n",
       "    <tr style=\"text-align: right;\">\n",
       "      <th></th>\n",
       "      <th>a</th>\n",
       "      <th>b</th>\n",
       "      <th>c</th>\n",
       "    </tr>\n",
       "  </thead>\n",
       "  <tbody>\n",
       "    <tr>\n",
       "      <th>2012-06-12</th>\n",
       "      <td>1.0</td>\n",
       "      <td>1.0</td>\n",
       "      <td>1.0</td>\n",
       "    </tr>\n",
       "    <tr>\n",
       "      <th>2012-06-13</th>\n",
       "      <td>1.0</td>\n",
       "      <td>1.0</td>\n",
       "      <td>1.0</td>\n",
       "    </tr>\n",
       "    <tr>\n",
       "      <th>2012-06-14</th>\n",
       "      <td>1.0</td>\n",
       "      <td>1.0</td>\n",
       "      <td>1.0</td>\n",
       "    </tr>\n",
       "    <tr>\n",
       "      <th>2012-06-15</th>\n",
       "      <td>2.0</td>\n",
       "      <td>2.0</td>\n",
       "      <td>2.0</td>\n",
       "    </tr>\n",
       "    <tr>\n",
       "      <th>2012-06-16</th>\n",
       "      <td>2.0</td>\n",
       "      <td>2.0</td>\n",
       "      <td>2.0</td>\n",
       "    </tr>\n",
       "    <tr>\n",
       "      <th>2012-06-17</th>\n",
       "      <td>2.0</td>\n",
       "      <td>2.0</td>\n",
       "      <td>2.0</td>\n",
       "    </tr>\n",
       "    <tr>\n",
       "      <th>2012-06-18</th>\n",
       "      <td>2.0</td>\n",
       "      <td>2.0</td>\n",
       "      <td>2.0</td>\n",
       "    </tr>\n",
       "  </tbody>\n",
       "</table>\n",
       "</div>"
      ],
      "text/plain": [
       "              a    b    c\n",
       "2012-06-12  1.0  1.0  1.0\n",
       "2012-06-13  1.0  1.0  1.0\n",
       "2012-06-14  1.0  1.0  1.0\n",
       "2012-06-15  2.0  2.0  2.0\n",
       "2012-06-16  2.0  2.0  2.0\n",
       "2012-06-17  2.0  2.0  2.0\n",
       "2012-06-18  2.0  2.0  2.0"
      ]
     },
     "execution_count": 92,
     "metadata": {},
     "output_type": "execute_result"
    }
   ],
   "source": [
    "spliced = pd.concat([data1.ix[:'2012-06-14'],data2.ix['2012-06-15':]])\n",
    "spliced"
   ]
  },
  {
   "cell_type": "code",
   "execution_count": 94,
   "metadata": {},
   "outputs": [
    {
     "name": "stderr",
     "output_type": "stream",
     "text": [
      "D:\\Python\\anaconda\\lib\\site-packages\\ipykernel_launcher.py:5: DeprecationWarning: \n",
      ".ix is deprecated. Please use\n",
      ".loc for label based indexing or\n",
      ".iloc for positional indexing\n",
      "\n",
      "See the documentation here:\n",
      "http://pandas.pydata.org/pandas-docs/stable/indexing.html#ix-indexer-is-deprecated\n",
      "  \"\"\"\n"
     ]
    },
    {
     "data": {
      "text/html": [
       "<div>\n",
       "<style scoped>\n",
       "    .dataframe tbody tr th:only-of-type {\n",
       "        vertical-align: middle;\n",
       "    }\n",
       "\n",
       "    .dataframe tbody tr th {\n",
       "        vertical-align: top;\n",
       "    }\n",
       "\n",
       "    .dataframe thead th {\n",
       "        text-align: right;\n",
       "    }\n",
       "</style>\n",
       "<table border=\"1\" class=\"dataframe\">\n",
       "  <thead>\n",
       "    <tr style=\"text-align: right;\">\n",
       "      <th></th>\n",
       "      <th>a</th>\n",
       "      <th>b</th>\n",
       "      <th>c</th>\n",
       "      <th>d</th>\n",
       "    </tr>\n",
       "  </thead>\n",
       "  <tbody>\n",
       "    <tr>\n",
       "      <th>2012-06-12</th>\n",
       "      <td>1.0</td>\n",
       "      <td>1.0</td>\n",
       "      <td>1.0</td>\n",
       "      <td>NaN</td>\n",
       "    </tr>\n",
       "    <tr>\n",
       "      <th>2012-06-13</th>\n",
       "      <td>1.0</td>\n",
       "      <td>1.0</td>\n",
       "      <td>1.0</td>\n",
       "      <td>NaN</td>\n",
       "    </tr>\n",
       "    <tr>\n",
       "      <th>2012-06-14</th>\n",
       "      <td>1.0</td>\n",
       "      <td>1.0</td>\n",
       "      <td>1.0</td>\n",
       "      <td>NaN</td>\n",
       "    </tr>\n",
       "    <tr>\n",
       "      <th>2012-06-15</th>\n",
       "      <td>2.0</td>\n",
       "      <td>2.0</td>\n",
       "      <td>2.0</td>\n",
       "      <td>2.0</td>\n",
       "    </tr>\n",
       "    <tr>\n",
       "      <th>2012-06-16</th>\n",
       "      <td>2.0</td>\n",
       "      <td>2.0</td>\n",
       "      <td>2.0</td>\n",
       "      <td>2.0</td>\n",
       "    </tr>\n",
       "    <tr>\n",
       "      <th>2012-06-17</th>\n",
       "      <td>2.0</td>\n",
       "      <td>2.0</td>\n",
       "      <td>2.0</td>\n",
       "      <td>2.0</td>\n",
       "    </tr>\n",
       "    <tr>\n",
       "      <th>2012-06-18</th>\n",
       "      <td>2.0</td>\n",
       "      <td>2.0</td>\n",
       "      <td>2.0</td>\n",
       "      <td>2.0</td>\n",
       "    </tr>\n",
       "  </tbody>\n",
       "</table>\n",
       "</div>"
      ],
      "text/plain": [
       "              a    b    c    d\n",
       "2012-06-12  1.0  1.0  1.0  NaN\n",
       "2012-06-13  1.0  1.0  1.0  NaN\n",
       "2012-06-14  1.0  1.0  1.0  NaN\n",
       "2012-06-15  2.0  2.0  2.0  2.0\n",
       "2012-06-16  2.0  2.0  2.0  2.0\n",
       "2012-06-17  2.0  2.0  2.0  2.0\n",
       "2012-06-18  2.0  2.0  2.0  2.0"
      ]
     },
     "execution_count": 94,
     "metadata": {},
     "output_type": "execute_result"
    }
   ],
   "source": [
    "# 假设data1缺失了data2中存在的某个时间序列\n",
    "data2 = pd.DataFrame(np.ones((6,4),dtype=float)*2,\n",
    "                     columns=['a','b','c','d'],\n",
    "                     index = pd.date_range('6/13/2012',periods=6))\n",
    "spliced = pd.concat([data1.ix[:'2012-06-14'],data2.ix['2012-06-15':]])\n",
    "spliced"
   ]
  },
  {
   "cell_type": "code",
   "execution_count": 95,
   "metadata": {},
   "outputs": [
    {
     "data": {
      "text/html": [
       "<div>\n",
       "<style scoped>\n",
       "    .dataframe tbody tr th:only-of-type {\n",
       "        vertical-align: middle;\n",
       "    }\n",
       "\n",
       "    .dataframe tbody tr th {\n",
       "        vertical-align: top;\n",
       "    }\n",
       "\n",
       "    .dataframe thead th {\n",
       "        text-align: right;\n",
       "    }\n",
       "</style>\n",
       "<table border=\"1\" class=\"dataframe\">\n",
       "  <thead>\n",
       "    <tr style=\"text-align: right;\">\n",
       "      <th></th>\n",
       "      <th>a</th>\n",
       "      <th>b</th>\n",
       "      <th>c</th>\n",
       "      <th>d</th>\n",
       "    </tr>\n",
       "  </thead>\n",
       "  <tbody>\n",
       "    <tr>\n",
       "      <th>2012-06-12</th>\n",
       "      <td>1.0</td>\n",
       "      <td>1.0</td>\n",
       "      <td>1.0</td>\n",
       "      <td>NaN</td>\n",
       "    </tr>\n",
       "    <tr>\n",
       "      <th>2012-06-13</th>\n",
       "      <td>1.0</td>\n",
       "      <td>1.0</td>\n",
       "      <td>1.0</td>\n",
       "      <td>2.0</td>\n",
       "    </tr>\n",
       "    <tr>\n",
       "      <th>2012-06-14</th>\n",
       "      <td>1.0</td>\n",
       "      <td>1.0</td>\n",
       "      <td>1.0</td>\n",
       "      <td>2.0</td>\n",
       "    </tr>\n",
       "    <tr>\n",
       "      <th>2012-06-15</th>\n",
       "      <td>2.0</td>\n",
       "      <td>2.0</td>\n",
       "      <td>2.0</td>\n",
       "      <td>2.0</td>\n",
       "    </tr>\n",
       "    <tr>\n",
       "      <th>2012-06-16</th>\n",
       "      <td>2.0</td>\n",
       "      <td>2.0</td>\n",
       "      <td>2.0</td>\n",
       "      <td>2.0</td>\n",
       "    </tr>\n",
       "    <tr>\n",
       "      <th>2012-06-17</th>\n",
       "      <td>2.0</td>\n",
       "      <td>2.0</td>\n",
       "      <td>2.0</td>\n",
       "      <td>2.0</td>\n",
       "    </tr>\n",
       "    <tr>\n",
       "      <th>2012-06-18</th>\n",
       "      <td>2.0</td>\n",
       "      <td>2.0</td>\n",
       "      <td>2.0</td>\n",
       "      <td>2.0</td>\n",
       "    </tr>\n",
       "  </tbody>\n",
       "</table>\n",
       "</div>"
      ],
      "text/plain": [
       "              a    b    c    d\n",
       "2012-06-12  1.0  1.0  1.0  NaN\n",
       "2012-06-13  1.0  1.0  1.0  2.0\n",
       "2012-06-14  1.0  1.0  1.0  2.0\n",
       "2012-06-15  2.0  2.0  2.0  2.0\n",
       "2012-06-16  2.0  2.0  2.0  2.0\n",
       "2012-06-17  2.0  2.0  2.0  2.0\n",
       "2012-06-18  2.0  2.0  2.0  2.0"
      ]
     },
     "execution_count": 95,
     "metadata": {},
     "output_type": "execute_result"
    }
   ],
   "source": [
    "# combine_first可以引入合并点之前的数据，这样也就扩展了‘d’项的历史\n",
    "spliced_filled = spliced.combine_first(data2)\n",
    "spliced_filled"
   ]
  },
  {
   "cell_type": "code",
   "execution_count": 97,
   "metadata": {},
   "outputs": [
    {
     "data": {
      "text/html": [
       "<div>\n",
       "<style scoped>\n",
       "    .dataframe tbody tr th:only-of-type {\n",
       "        vertical-align: middle;\n",
       "    }\n",
       "\n",
       "    .dataframe tbody tr th {\n",
       "        vertical-align: top;\n",
       "    }\n",
       "\n",
       "    .dataframe thead th {\n",
       "        text-align: right;\n",
       "    }\n",
       "</style>\n",
       "<table border=\"1\" class=\"dataframe\">\n",
       "  <thead>\n",
       "    <tr style=\"text-align: right;\">\n",
       "      <th></th>\n",
       "      <th>a</th>\n",
       "      <th>b</th>\n",
       "      <th>c</th>\n",
       "      <th>d</th>\n",
       "    </tr>\n",
       "  </thead>\n",
       "  <tbody>\n",
       "    <tr>\n",
       "      <th>2012-06-12</th>\n",
       "      <td>1.0</td>\n",
       "      <td>1.0</td>\n",
       "      <td>1.0</td>\n",
       "      <td>NaN</td>\n",
       "    </tr>\n",
       "    <tr>\n",
       "      <th>2012-06-13</th>\n",
       "      <td>1.0</td>\n",
       "      <td>1.0</td>\n",
       "      <td>1.0</td>\n",
       "      <td>2.0</td>\n",
       "    </tr>\n",
       "    <tr>\n",
       "      <th>2012-06-14</th>\n",
       "      <td>1.0</td>\n",
       "      <td>1.0</td>\n",
       "      <td>1.0</td>\n",
       "      <td>2.0</td>\n",
       "    </tr>\n",
       "    <tr>\n",
       "      <th>2012-06-15</th>\n",
       "      <td>2.0</td>\n",
       "      <td>2.0</td>\n",
       "      <td>2.0</td>\n",
       "      <td>2.0</td>\n",
       "    </tr>\n",
       "    <tr>\n",
       "      <th>2012-06-16</th>\n",
       "      <td>2.0</td>\n",
       "      <td>2.0</td>\n",
       "      <td>2.0</td>\n",
       "      <td>2.0</td>\n",
       "    </tr>\n",
       "    <tr>\n",
       "      <th>2012-06-17</th>\n",
       "      <td>2.0</td>\n",
       "      <td>2.0</td>\n",
       "      <td>2.0</td>\n",
       "      <td>2.0</td>\n",
       "    </tr>\n",
       "    <tr>\n",
       "      <th>2012-06-18</th>\n",
       "      <td>2.0</td>\n",
       "      <td>2.0</td>\n",
       "      <td>2.0</td>\n",
       "      <td>2.0</td>\n",
       "    </tr>\n",
       "  </tbody>\n",
       "</table>\n",
       "</div>"
      ],
      "text/plain": [
       "              a    b    c    d\n",
       "2012-06-12  1.0  1.0  1.0  NaN\n",
       "2012-06-13  1.0  1.0  1.0  2.0\n",
       "2012-06-14  1.0  1.0  1.0  2.0\n",
       "2012-06-15  2.0  2.0  2.0  2.0\n",
       "2012-06-16  2.0  2.0  2.0  2.0\n",
       "2012-06-17  2.0  2.0  2.0  2.0\n",
       "2012-06-18  2.0  2.0  2.0  2.0"
      ]
     },
     "execution_count": 97,
     "metadata": {},
     "output_type": "execute_result"
    }
   ],
   "source": [
    "# DataFrame也有一个类似方法update，可以实现就地更新，如果只想填充空洞，则必须传入overwrite=False才行\n",
    "spliced.update(data2,overwrite=False)\n",
    "spliced"
   ]
  },
  {
   "cell_type": "code",
   "execution_count": 98,
   "metadata": {},
   "outputs": [
    {
     "data": {
      "text/html": [
       "<div>\n",
       "<style scoped>\n",
       "    .dataframe tbody tr th:only-of-type {\n",
       "        vertical-align: middle;\n",
       "    }\n",
       "\n",
       "    .dataframe tbody tr th {\n",
       "        vertical-align: top;\n",
       "    }\n",
       "\n",
       "    .dataframe thead th {\n",
       "        text-align: right;\n",
       "    }\n",
       "</style>\n",
       "<table border=\"1\" class=\"dataframe\">\n",
       "  <thead>\n",
       "    <tr style=\"text-align: right;\">\n",
       "      <th></th>\n",
       "      <th>a</th>\n",
       "      <th>b</th>\n",
       "      <th>c</th>\n",
       "      <th>d</th>\n",
       "    </tr>\n",
       "  </thead>\n",
       "  <tbody>\n",
       "    <tr>\n",
       "      <th>2012-06-12</th>\n",
       "      <td>1.0</td>\n",
       "      <td>1.0</td>\n",
       "      <td>1.0</td>\n",
       "      <td>NaN</td>\n",
       "    </tr>\n",
       "    <tr>\n",
       "      <th>2012-06-13</th>\n",
       "      <td>1.0</td>\n",
       "      <td>1.0</td>\n",
       "      <td>1.0</td>\n",
       "      <td>2.0</td>\n",
       "    </tr>\n",
       "    <tr>\n",
       "      <th>2012-06-14</th>\n",
       "      <td>1.0</td>\n",
       "      <td>1.0</td>\n",
       "      <td>1.0</td>\n",
       "      <td>2.0</td>\n",
       "    </tr>\n",
       "    <tr>\n",
       "      <th>2012-06-15</th>\n",
       "      <td>1.0</td>\n",
       "      <td>2.0</td>\n",
       "      <td>1.0</td>\n",
       "      <td>2.0</td>\n",
       "    </tr>\n",
       "    <tr>\n",
       "      <th>2012-06-16</th>\n",
       "      <td>1.0</td>\n",
       "      <td>2.0</td>\n",
       "      <td>1.0</td>\n",
       "      <td>2.0</td>\n",
       "    </tr>\n",
       "    <tr>\n",
       "      <th>2012-06-17</th>\n",
       "      <td>1.0</td>\n",
       "      <td>2.0</td>\n",
       "      <td>1.0</td>\n",
       "      <td>2.0</td>\n",
       "    </tr>\n",
       "    <tr>\n",
       "      <th>2012-06-18</th>\n",
       "      <td>NaN</td>\n",
       "      <td>2.0</td>\n",
       "      <td>NaN</td>\n",
       "      <td>2.0</td>\n",
       "    </tr>\n",
       "  </tbody>\n",
       "</table>\n",
       "</div>"
      ],
      "text/plain": [
       "              a    b    c    d\n",
       "2012-06-12  1.0  1.0  1.0  NaN\n",
       "2012-06-13  1.0  1.0  1.0  2.0\n",
       "2012-06-14  1.0  1.0  1.0  2.0\n",
       "2012-06-15  1.0  2.0  1.0  2.0\n",
       "2012-06-16  1.0  2.0  1.0  2.0\n",
       "2012-06-17  1.0  2.0  1.0  2.0\n",
       "2012-06-18  NaN  2.0  NaN  2.0"
      ]
     },
     "execution_count": 98,
     "metadata": {},
     "output_type": "execute_result"
    }
   ],
   "source": [
    "# 上面的都可以实现将数据中的符号替换为实际数据，但有时利用DataFrame的索引机制直接对列进行设置会更简单\n",
    "cp_spliced = spliced.copy()\n",
    "cp_spliced[['a','c']] = data1[['a','c']]\n",
    "cp_spliced"
   ]
  },
  {
   "cell_type": "markdown",
   "metadata": {},
   "source": [
    "# 收益指数和累计指数\n",
    "金融领域中，收益（return）通常指的是某资产价格的百分比变化"
   ]
  },
  {
   "cell_type": "code",
   "execution_count": 111,
   "metadata": {},
   "outputs": [
    {
     "data": {
      "text/plain": [
       "Date\n",
       "2012-07-23    74.676285\n",
       "2012-07-24    74.316422\n",
       "2012-07-25    71.107155\n",
       "2012-07-26    71.096016\n",
       "2012-07-27    72.367340\n",
       "Name: Adj Close, dtype: float64"
      ]
     },
     "execution_count": 111,
     "metadata": {},
     "output_type": "execute_result"
    }
   ],
   "source": [
    "# 2011到2012年间苹果公司的股票价格数据\n",
    "import  pandas_datareader.data as web\n",
    "price = web.get_data_yahoo('AAPL','2011-01-01','2012-07-27')['Adj Close']\n",
    "price[-5:]"
   ]
  },
  {
   "cell_type": "code",
   "execution_count": 114,
   "metadata": {},
   "outputs": [
    {
     "data": {
      "text/plain": [
       "0.07239946865659364"
      ]
     },
     "execution_count": 114,
     "metadata": {},
     "output_type": "execute_result"
    }
   ],
   "source": [
    "# 计算两个时间点指甲的累计百分比回报只需计算价格的百分比变化即可\n",
    "price['2011-10-03']/price['2011-3-01']-1"
   ]
  },
  {
   "cell_type": "code",
   "execution_count": 115,
   "metadata": {},
   "outputs": [
    {
     "data": {
      "text/plain": [
       "Date\n",
       "2010-12-31         NaN\n",
       "2011-01-03    0.021732\n",
       "2011-01-04    0.005219\n",
       "2011-01-05    0.008180\n",
       "2011-01-06   -0.000808\n",
       "2011-01-07    0.007161\n",
       "2011-01-10    0.018833\n",
       "2011-01-11   -0.002365\n",
       "2011-01-12    0.008137\n",
       "2011-01-13    0.003658\n",
       "2011-01-14    0.008100\n",
       "2011-01-18   -0.022469\n",
       "2011-01-19   -0.005313\n",
       "2011-01-20   -0.018180\n",
       "2011-01-21   -0.017915\n",
       "2011-01-24    0.032842\n",
       "2011-01-25    0.011706\n",
       "2011-01-26    0.007176\n",
       "2011-01-27   -0.001861\n",
       "2011-01-28   -0.020716\n",
       "2011-01-31    0.009581\n",
       "2011-02-01    0.016827\n",
       "2011-02-02   -0.002058\n",
       "2011-02-03   -0.002556\n",
       "2011-02-04    0.008910\n",
       "2011-02-07    0.015527\n",
       "2011-02-08    0.009435\n",
       "2011-02-09    0.008333\n",
       "2011-02-10   -0.010107\n",
       "2011-02-11    0.006516\n",
       "                ...   \n",
       "2012-06-15    0.004549\n",
       "2012-06-18    0.020291\n",
       "2012-06-19    0.002783\n",
       "2012-06-20   -0.002843\n",
       "2012-06-21   -0.013777\n",
       "2012-06-22    0.007669\n",
       "2012-06-25   -0.019464\n",
       "2012-06-26    0.002207\n",
       "2012-06-27    0.004318\n",
       "2012-06-28   -0.009487\n",
       "2012-06-29    0.026272\n",
       "2012-07-02    0.014589\n",
       "2012-07-03    0.011628\n",
       "2012-07-05    0.017567\n",
       "2012-07-06   -0.006656\n",
       "2012-07-09    0.013220\n",
       "2012-07-10   -0.009252\n",
       "2012-07-11   -0.006215\n",
       "2012-07-12   -0.009150\n",
       "2012-07-13    0.010135\n",
       "2012-07-16    0.003207\n",
       "2012-07-17    0.000049\n",
       "2012-07-18   -0.001120\n",
       "2012-07-19    0.013295\n",
       "2012-07-20   -0.016311\n",
       "2012-07-23   -0.000778\n",
       "2012-07-24   -0.004819\n",
       "2012-07-25   -0.043184\n",
       "2012-07-26   -0.000157\n",
       "2012-07-27    0.017882\n",
       "Name: Adj Close, Length: 397, dtype: float64"
      ]
     },
     "execution_count": 115,
     "metadata": {},
     "output_type": "execute_result"
    }
   ],
   "source": [
    "# 收益指数是一个表示单位投资（比如1美元）收益的时间序列，从收益指数中可以得出许多假设，比如决定是否进行利润再投资\n",
    "# 通过cumprod计算出一个简单的收益指数\n",
    "returns = price.pct_change()  # 表示当前元素与先前元素相差的百分比，这里即当前元素-前一个元素\n",
    "returns"
   ]
  },
  {
   "cell_type": "code",
   "execution_count": 122,
   "metadata": {},
   "outputs": [
    {
     "data": {
      "text/plain": [
       "Date\n",
       "2010-12-31    1.000000\n",
       "2011-01-03    1.021732\n",
       "2011-01-04    1.027065\n",
       "2011-01-05    1.035466\n",
       "2011-01-06    1.034629\n",
       "2011-01-07    1.042038\n",
       "2011-01-10    1.061663\n",
       "2011-01-11    1.059152\n",
       "2011-01-12    1.067770\n",
       "2011-01-13    1.071676\n",
       "2011-01-14    1.080357\n",
       "2011-01-18    1.056083\n",
       "2011-01-19    1.050471\n",
       "2011-01-20    1.031374\n",
       "2011-01-21    1.012897\n",
       "2011-01-24    1.046162\n",
       "2011-01-25    1.058408\n",
       "2011-01-26    1.066003\n",
       "2011-01-27    1.064019\n",
       "2011-01-28    1.041977\n",
       "2011-01-31    1.051959\n",
       "2011-02-01    1.069661\n",
       "2011-02-02    1.067460\n",
       "2011-02-03    1.064732\n",
       "2011-02-04    1.074218\n",
       "2011-02-07    1.090897\n",
       "2011-02-08    1.101190\n",
       "2011-02-09    1.110367\n",
       "2011-02-10    1.099144\n",
       "2011-02-11    1.106306\n",
       "                ...   \n",
       "2012-06-15    1.779916\n",
       "2012-06-18    1.816034\n",
       "2012-06-19    1.821088\n",
       "2012-06-20    1.815910\n",
       "2012-06-21    1.790891\n",
       "2012-06-22    1.804625\n",
       "2012-06-25    1.769500\n",
       "2012-06-26    1.773406\n",
       "2012-06-27    1.781064\n",
       "2012-06-28    1.764167\n",
       "2012-06-29    1.810516\n",
       "2012-07-02    1.836929\n",
       "2012-07-03    1.858289\n",
       "2012-07-05    1.890934\n",
       "2012-07-06    1.878348\n",
       "2012-07-09    1.903181\n",
       "2012-07-10    1.885572\n",
       "2012-07-11    1.873853\n",
       "2012-07-12    1.856708\n",
       "2012-07-13    1.875526\n",
       "2012-07-16    1.881541\n",
       "2012-07-17    1.881634\n",
       "2012-07-18    1.879526\n",
       "2012-07-19    1.904514\n",
       "2012-07-20    1.873450\n",
       "2012-07-23    1.871992\n",
       "2012-07-24    1.862971\n",
       "2012-07-25    1.782521\n",
       "2012-07-26    1.782242\n",
       "2012-07-27    1.814111\n",
       "Name: Adj Close, Length: 397, dtype: float64"
      ]
     },
     "execution_count": 122,
     "metadata": {},
     "output_type": "execute_result"
    }
   ],
   "source": [
    "ret_index = (1+returns).cumprod()   # 累积乘积\n",
    "ret_index[0] = 1 # 将第一个值设置为1\n",
    "ret_index"
   ]
  },
  {
   "cell_type": "code",
   "execution_count": 124,
   "metadata": {},
   "outputs": [
    {
     "name": "stderr",
     "output_type": "stream",
     "text": [
      "D:\\Python\\anaconda\\lib\\site-packages\\ipykernel_launcher.py:2: FutureWarning: how in .resample() is deprecated\n",
      "the new syntax is .resample(...).last()\n",
      "  \n"
     ]
    },
    {
     "data": {
      "text/plain": [
       "Date\n",
       "2012-01-31    0.127111\n",
       "2012-02-29    0.188310\n",
       "2012-03-30    0.105284\n",
       "2012-04-30   -0.025970\n",
       "2012-05-31   -0.010703\n",
       "2012-06-29    0.010853\n",
       "2012-07-31    0.001986\n",
       "Freq: BM, Name: Adj Close, dtype: float64"
      ]
     },
     "execution_count": 124,
     "metadata": {},
     "output_type": "execute_result"
    }
   ],
   "source": [
    "# 得到收益指数之后，计算指定时期内的累计收益\n",
    "m_returns = ret_index.resample('BM',how='last').pct_change()\n",
    "m_returns['2012']"
   ]
  },
  {
   "cell_type": "code",
   "execution_count": 125,
   "metadata": {},
   "outputs": [
    {
     "name": "stderr",
     "output_type": "stream",
     "text": [
      "D:\\Python\\anaconda\\lib\\site-packages\\ipykernel_launcher.py:2: FutureWarning: how in .resample() is deprecated\n",
      "the new syntax is .resample(...).prod()\n",
      "  \n"
     ]
    },
    {
     "data": {
      "text/plain": [
       "Date\n",
       "2012-01    0.127111\n",
       "2012-02    0.188310\n",
       "2012-03    0.105284\n",
       "2012-04   -0.025970\n",
       "2012-05   -0.010703\n",
       "2012-06    0.010853\n",
       "2012-07    0.001986\n",
       "Freq: M, Name: Adj Close, dtype: float64"
      ]
     },
     "execution_count": 125,
     "metadata": {},
     "output_type": "execute_result"
    }
   ],
   "source": [
    "# 上面的结果也能通过重采样聚类从日百分比变化中计算得出\n",
    "m_rets = (1+returns).resample(\"M\",how='prod',kind='period')-1\n",
    "m_rets['2012']"
   ]
  },
  {
   "cell_type": "markdown",
   "metadata": {},
   "source": [
    "# 分组变换和分析"
   ]
  },
  {
   "cell_type": "code",
   "execution_count": 5,
   "metadata": {},
   "outputs": [
    {
     "data": {
      "text/plain": [
       "array(['MYNBI', 'QPMZJ', 'PLSGQ', 'EJEYD', 'TZIRW'], dtype='<U5')"
      ]
     },
     "execution_count": 5,
     "metadata": {},
     "output_type": "execute_result"
    }
   ],
   "source": [
    "# 以一组假想的股票投资组合为例。首先随机生成1000个股票代码\n",
    "import random\n",
    "import string\n",
    "random.seed(0)\n",
    "N = 1000\n",
    "def rands(n):\n",
    "    choices = string.ascii_uppercase\n",
    "    return ''.join([random.choice(choices) for _ in range(n)])\n",
    "tickers = np.array([rands(5) for _ in range(N)])  # 随机生成含5个大写字母的代码\n",
    "tickers[:5]"
   ]
  },
  {
   "cell_type": "code",
   "execution_count": 6,
   "metadata": {},
   "outputs": [
    {
     "data": {
      "text/html": [
       "<div>\n",
       "<style scoped>\n",
       "    .dataframe tbody tr th:only-of-type {\n",
       "        vertical-align: middle;\n",
       "    }\n",
       "\n",
       "    .dataframe tbody tr th {\n",
       "        vertical-align: top;\n",
       "    }\n",
       "\n",
       "    .dataframe thead th {\n",
       "        text-align: right;\n",
       "    }\n",
       "</style>\n",
       "<table border=\"1\" class=\"dataframe\">\n",
       "  <thead>\n",
       "    <tr style=\"text-align: right;\">\n",
       "      <th></th>\n",
       "      <th>Momentum</th>\n",
       "      <th>ShortInterest</th>\n",
       "      <th>Value</th>\n",
       "    </tr>\n",
       "  </thead>\n",
       "  <tbody>\n",
       "    <tr>\n",
       "      <th>MYNBI</th>\n",
       "      <td>0.033735</td>\n",
       "      <td>-0.016758</td>\n",
       "      <td>0.070012</td>\n",
       "    </tr>\n",
       "    <tr>\n",
       "      <th>QPMZJ</th>\n",
       "      <td>0.039123</td>\n",
       "      <td>-0.021287</td>\n",
       "      <td>0.092283</td>\n",
       "    </tr>\n",
       "    <tr>\n",
       "      <th>PLSGQ</th>\n",
       "      <td>0.019385</td>\n",
       "      <td>-0.021671</td>\n",
       "      <td>0.074507</td>\n",
       "    </tr>\n",
       "    <tr>\n",
       "      <th>EJEYD</th>\n",
       "      <td>0.028480</td>\n",
       "      <td>-0.014490</td>\n",
       "      <td>0.084253</td>\n",
       "    </tr>\n",
       "    <tr>\n",
       "      <th>TZIRW</th>\n",
       "      <td>0.026526</td>\n",
       "      <td>-0.022802</td>\n",
       "      <td>0.077527</td>\n",
       "    </tr>\n",
       "  </tbody>\n",
       "</table>\n",
       "</div>"
      ],
      "text/plain": [
       "       Momentum  ShortInterest     Value\n",
       "MYNBI  0.033735      -0.016758  0.070012\n",
       "QPMZJ  0.039123      -0.021287  0.092283\n",
       "PLSGQ  0.019385      -0.021671  0.074507\n",
       "EJEYD  0.028480      -0.014490  0.084253\n",
       "TZIRW  0.026526      -0.022802  0.077527"
      ]
     },
     "execution_count": 6,
     "metadata": {},
     "output_type": "execute_result"
    }
   ],
   "source": [
    "# 创建一个含有3列的Dataframe来承载这些假想数据，不过只选择部分股票组成改投资组合\n",
    "M =  500\n",
    "df = pd.DataFrame({'Momentum':np.random.randn(M)/200 + 0.03,\n",
    "                   'Value':np.random.randn(M)/200 + 0.08,\n",
    "                   'ShortInterest':np.random.randn(M)/200 -0.02},\n",
    "                  index = tickers[:M])\n",
    "df[:5]"
   ]
  },
  {
   "cell_type": "code",
   "execution_count": 7,
   "metadata": {},
   "outputs": [
    {
     "data": {
      "text/plain": [
       "MYNBI    FINANCIAL\n",
       "QPMZJ    FINANCIAL\n",
       "PLSGQ         TECH\n",
       "EJEYD    FINANCIAL\n",
       "TZIRW         TECH\n",
       "Name: industry, dtype: object"
      ]
     },
     "execution_count": 7,
     "metadata": {},
     "output_type": "execute_result"
    }
   ],
   "source": [
    "# 为这些股票随机创建一个行业分类,为简单起见，只选两个行业，并将映射关系保存在Series中\n",
    "ind_names = np.array(['FINANCIAL','TECH'])\n",
    "sampler = np.random.randint(0,len(ind_names),N) # 生成N个[0，len(ind_names)）的随机整数\n",
    "industries = pd.Series(ind_names[sampler],index = tickers,name='industry')\n",
    "industries[:5]"
   ]
  },
  {
   "cell_type": "code",
   "execution_count": 8,
   "metadata": {},
   "outputs": [
    {
     "data": {
      "text/html": [
       "<div>\n",
       "<style scoped>\n",
       "    .dataframe tbody tr th:only-of-type {\n",
       "        vertical-align: middle;\n",
       "    }\n",
       "\n",
       "    .dataframe tbody tr th {\n",
       "        vertical-align: top;\n",
       "    }\n",
       "\n",
       "    .dataframe thead th {\n",
       "        text-align: right;\n",
       "    }\n",
       "</style>\n",
       "<table border=\"1\" class=\"dataframe\">\n",
       "  <thead>\n",
       "    <tr style=\"text-align: right;\">\n",
       "      <th></th>\n",
       "      <th>Momentum</th>\n",
       "      <th>ShortInterest</th>\n",
       "      <th>Value</th>\n",
       "    </tr>\n",
       "    <tr>\n",
       "      <th>industry</th>\n",
       "      <th></th>\n",
       "      <th></th>\n",
       "      <th></th>\n",
       "    </tr>\n",
       "  </thead>\n",
       "  <tbody>\n",
       "    <tr>\n",
       "      <th>FINANCIAL</th>\n",
       "      <td>0.030148</td>\n",
       "      <td>-0.020076</td>\n",
       "      <td>0.080253</td>\n",
       "    </tr>\n",
       "    <tr>\n",
       "      <th>TECH</th>\n",
       "      <td>0.029665</td>\n",
       "      <td>-0.019782</td>\n",
       "      <td>0.079828</td>\n",
       "    </tr>\n",
       "  </tbody>\n",
       "</table>\n",
       "</div>"
      ],
      "text/plain": [
       "           Momentum  ShortInterest     Value\n",
       "industry                                    \n",
       "FINANCIAL  0.030148      -0.020076  0.080253\n",
       "TECH       0.029665      -0.019782  0.079828"
      ]
     },
     "execution_count": 8,
     "metadata": {},
     "output_type": "execute_result"
    }
   ],
   "source": [
    "# 根据行业分类进行分组并执行分组聚合和变换\n",
    "by_industry = df.groupby(industries)\n",
    "by_industry.mean()"
   ]
  },
  {
   "cell_type": "code",
   "execution_count": 9,
   "metadata": {},
   "outputs": [
    {
     "data": {
      "text/html": [
       "<div>\n",
       "<style scoped>\n",
       "    .dataframe tbody tr th:only-of-type {\n",
       "        vertical-align: middle;\n",
       "    }\n",
       "\n",
       "    .dataframe tbody tr th {\n",
       "        vertical-align: top;\n",
       "    }\n",
       "\n",
       "    .dataframe thead tr th {\n",
       "        text-align: left;\n",
       "    }\n",
       "\n",
       "    .dataframe thead tr:last-of-type th {\n",
       "        text-align: right;\n",
       "    }\n",
       "</style>\n",
       "<table border=\"1\" class=\"dataframe\">\n",
       "  <thead>\n",
       "    <tr>\n",
       "      <th></th>\n",
       "      <th colspan=\"8\" halign=\"left\">Momentum</th>\n",
       "      <th colspan=\"5\" halign=\"left\">ShortInterest</th>\n",
       "      <th colspan=\"8\" halign=\"left\">Value</th>\n",
       "    </tr>\n",
       "    <tr>\n",
       "      <th></th>\n",
       "      <th>count</th>\n",
       "      <th>mean</th>\n",
       "      <th>std</th>\n",
       "      <th>min</th>\n",
       "      <th>25%</th>\n",
       "      <th>50%</th>\n",
       "      <th>75%</th>\n",
       "      <th>max</th>\n",
       "      <th>count</th>\n",
       "      <th>mean</th>\n",
       "      <th>...</th>\n",
       "      <th>75%</th>\n",
       "      <th>max</th>\n",
       "      <th>count</th>\n",
       "      <th>mean</th>\n",
       "      <th>std</th>\n",
       "      <th>min</th>\n",
       "      <th>25%</th>\n",
       "      <th>50%</th>\n",
       "      <th>75%</th>\n",
       "      <th>max</th>\n",
       "    </tr>\n",
       "    <tr>\n",
       "      <th>industry</th>\n",
       "      <th></th>\n",
       "      <th></th>\n",
       "      <th></th>\n",
       "      <th></th>\n",
       "      <th></th>\n",
       "      <th></th>\n",
       "      <th></th>\n",
       "      <th></th>\n",
       "      <th></th>\n",
       "      <th></th>\n",
       "      <th></th>\n",
       "      <th></th>\n",
       "      <th></th>\n",
       "      <th></th>\n",
       "      <th></th>\n",
       "      <th></th>\n",
       "      <th></th>\n",
       "      <th></th>\n",
       "      <th></th>\n",
       "      <th></th>\n",
       "      <th></th>\n",
       "    </tr>\n",
       "  </thead>\n",
       "  <tbody>\n",
       "    <tr>\n",
       "      <th>FINANCIAL</th>\n",
       "      <td>247.0</td>\n",
       "      <td>0.030148</td>\n",
       "      <td>0.004984</td>\n",
       "      <td>0.016261</td>\n",
       "      <td>0.026629</td>\n",
       "      <td>0.029981</td>\n",
       "      <td>0.032885</td>\n",
       "      <td>0.045733</td>\n",
       "      <td>247.0</td>\n",
       "      <td>-0.020076</td>\n",
       "      <td>...</td>\n",
       "      <td>-0.016260</td>\n",
       "      <td>-0.006750</td>\n",
       "      <td>247.0</td>\n",
       "      <td>0.080253</td>\n",
       "      <td>0.005368</td>\n",
       "      <td>0.061128</td>\n",
       "      <td>0.076654</td>\n",
       "      <td>0.080299</td>\n",
       "      <td>0.083426</td>\n",
       "      <td>0.095904</td>\n",
       "    </tr>\n",
       "    <tr>\n",
       "      <th>TECH</th>\n",
       "      <td>253.0</td>\n",
       "      <td>0.029665</td>\n",
       "      <td>0.004807</td>\n",
       "      <td>0.016640</td>\n",
       "      <td>0.026401</td>\n",
       "      <td>0.029609</td>\n",
       "      <td>0.032789</td>\n",
       "      <td>0.043148</td>\n",
       "      <td>253.0</td>\n",
       "      <td>-0.019782</td>\n",
       "      <td>...</td>\n",
       "      <td>-0.016611</td>\n",
       "      <td>-0.005772</td>\n",
       "      <td>253.0</td>\n",
       "      <td>0.079828</td>\n",
       "      <td>0.004884</td>\n",
       "      <td>0.063029</td>\n",
       "      <td>0.076666</td>\n",
       "      <td>0.080368</td>\n",
       "      <td>0.083261</td>\n",
       "      <td>0.092368</td>\n",
       "    </tr>\n",
       "  </tbody>\n",
       "</table>\n",
       "<p>2 rows × 24 columns</p>\n",
       "</div>"
      ],
      "text/plain": [
       "          Momentum                                                    \\\n",
       "             count      mean       std       min       25%       50%   \n",
       "industry                                                               \n",
       "FINANCIAL    247.0  0.030148  0.004984  0.016261  0.026629  0.029981   \n",
       "TECH         253.0  0.029665  0.004807  0.016640  0.026401  0.029609   \n",
       "\n",
       "                              ShortInterest              ...               \\\n",
       "                75%       max         count      mean    ...          75%   \n",
       "industry                                                 ...                \n",
       "FINANCIAL  0.032885  0.045733         247.0 -0.020076    ...    -0.016260   \n",
       "TECH       0.032789  0.043148         253.0 -0.019782    ...    -0.016611   \n",
       "\n",
       "                     Value                                                    \\\n",
       "                max  count      mean       std       min       25%       50%   \n",
       "industry                                                                       \n",
       "FINANCIAL -0.006750  247.0  0.080253  0.005368  0.061128  0.076654  0.080299   \n",
       "TECH      -0.005772  253.0  0.079828  0.004884  0.063029  0.076666  0.080368   \n",
       "\n",
       "                               \n",
       "                75%       max  \n",
       "industry                       \n",
       "FINANCIAL  0.083426  0.095904  \n",
       "TECH       0.083261  0.092368  \n",
       "\n",
       "[2 rows x 24 columns]"
      ]
     },
     "execution_count": 9,
     "metadata": {},
     "output_type": "execute_result"
    }
   ],
   "source": [
    "by_industry.describe()"
   ]
  },
  {
   "cell_type": "code",
   "execution_count": 10,
   "metadata": {},
   "outputs": [
    {
     "data": {
      "text/html": [
       "<div>\n",
       "<style scoped>\n",
       "    .dataframe tbody tr th:only-of-type {\n",
       "        vertical-align: middle;\n",
       "    }\n",
       "\n",
       "    .dataframe tbody tr th {\n",
       "        vertical-align: top;\n",
       "    }\n",
       "\n",
       "    .dataframe thead th {\n",
       "        text-align: right;\n",
       "    }\n",
       "</style>\n",
       "<table border=\"1\" class=\"dataframe\">\n",
       "  <thead>\n",
       "    <tr style=\"text-align: right;\">\n",
       "      <th></th>\n",
       "      <th>Momentum</th>\n",
       "      <th>ShortInterest</th>\n",
       "      <th>Value</th>\n",
       "    </tr>\n",
       "  </thead>\n",
       "  <tbody>\n",
       "    <tr>\n",
       "      <th>MYNBI</th>\n",
       "      <td>0.719760</td>\n",
       "      <td>0.636247</td>\n",
       "      <td>-1.907817</td>\n",
       "    </tr>\n",
       "    <tr>\n",
       "      <th>QPMZJ</th>\n",
       "      <td>1.800712</td>\n",
       "      <td>-0.232401</td>\n",
       "      <td>2.240880</td>\n",
       "    </tr>\n",
       "    <tr>\n",
       "      <th>PLSGQ</th>\n",
       "      <td>-2.138416</td>\n",
       "      <td>-0.393543</td>\n",
       "      <td>-1.089380</td>\n",
       "    </tr>\n",
       "    <tr>\n",
       "      <th>EJEYD</th>\n",
       "      <td>-0.334460</td>\n",
       "      <td>1.071347</td>\n",
       "      <td>0.745003</td>\n",
       "    </tr>\n",
       "    <tr>\n",
       "      <th>TZIRW</th>\n",
       "      <td>-0.652991</td>\n",
       "      <td>-0.629134</td>\n",
       "      <td>-0.471077</td>\n",
       "    </tr>\n",
       "  </tbody>\n",
       "</table>\n",
       "</div>"
      ],
      "text/plain": [
       "       Momentum  ShortInterest     Value\n",
       "MYNBI  0.719760       0.636247 -1.907817\n",
       "QPMZJ  1.800712      -0.232401  2.240880\n",
       "PLSGQ -2.138416      -0.393543 -1.089380\n",
       "EJEYD -0.334460       1.071347  0.745003\n",
       "TZIRW -0.652991      -0.629134 -0.471077"
      ]
     },
     "execution_count": 10,
     "metadata": {},
     "output_type": "execute_result"
    }
   ],
   "source": [
    "# 对这些按行业分组的投资组合进行各种变换，可以白哪些自定义的变化函数，如行业内标准化处理，它广泛用于股票投资组合的构建过程\n",
    "# 行业内标准化处理\n",
    "def zscore(group):\n",
    "    return (group - group.mean())/group.std()\n",
    "df_stand = by_industry.apply(zscore)\n",
    "df_stand.head()"
   ]
  },
  {
   "cell_type": "code",
   "execution_count": 11,
   "metadata": {},
   "outputs": [
    {
     "data": {
      "text/html": [
       "<div>\n",
       "<style scoped>\n",
       "    .dataframe tbody tr th:only-of-type {\n",
       "        vertical-align: middle;\n",
       "    }\n",
       "\n",
       "    .dataframe tbody tr th {\n",
       "        vertical-align: top;\n",
       "    }\n",
       "\n",
       "    .dataframe thead tr th {\n",
       "        text-align: left;\n",
       "    }\n",
       "\n",
       "    .dataframe thead tr:last-of-type th {\n",
       "        text-align: right;\n",
       "    }\n",
       "</style>\n",
       "<table border=\"1\" class=\"dataframe\">\n",
       "  <thead>\n",
       "    <tr>\n",
       "      <th></th>\n",
       "      <th colspan=\"2\" halign=\"left\">Momentum</th>\n",
       "      <th colspan=\"2\" halign=\"left\">ShortInterest</th>\n",
       "      <th colspan=\"2\" halign=\"left\">Value</th>\n",
       "    </tr>\n",
       "    <tr>\n",
       "      <th></th>\n",
       "      <th>mean</th>\n",
       "      <th>std</th>\n",
       "      <th>mean</th>\n",
       "      <th>std</th>\n",
       "      <th>mean</th>\n",
       "      <th>std</th>\n",
       "    </tr>\n",
       "    <tr>\n",
       "      <th>industry</th>\n",
       "      <th></th>\n",
       "      <th></th>\n",
       "      <th></th>\n",
       "      <th></th>\n",
       "      <th></th>\n",
       "      <th></th>\n",
       "    </tr>\n",
       "  </thead>\n",
       "  <tbody>\n",
       "    <tr>\n",
       "      <th>FINANCIAL</th>\n",
       "      <td>-6.679317e-16</td>\n",
       "      <td>1.0</td>\n",
       "      <td>2.017280e-15</td>\n",
       "      <td>1.0</td>\n",
       "      <td>-1.286061e-14</td>\n",
       "      <td>1.0</td>\n",
       "    </tr>\n",
       "    <tr>\n",
       "      <th>TECH</th>\n",
       "      <td>2.450389e-15</td>\n",
       "      <td>1.0</td>\n",
       "      <td>3.660664e-15</td>\n",
       "      <td>1.0</td>\n",
       "      <td>-3.783096e-15</td>\n",
       "      <td>1.0</td>\n",
       "    </tr>\n",
       "  </tbody>\n",
       "</table>\n",
       "</div>"
      ],
      "text/plain": [
       "               Momentum      ShortInterest              Value     \n",
       "                   mean  std          mean  std          mean  std\n",
       "industry                                                          \n",
       "FINANCIAL -6.679317e-16  1.0  2.017280e-15  1.0 -1.286061e-14  1.0\n",
       "TECH       2.450389e-15  1.0  3.660664e-15  1.0 -3.783096e-15  1.0"
      ]
     },
     "execution_count": 11,
     "metadata": {},
     "output_type": "execute_result"
    }
   ],
   "source": [
    "# 这样处理后，各行业的平均值为0，标准差为1\n",
    "df_stand.groupby(industries).agg(['mean','std'])"
   ]
  },
  {
   "cell_type": "code",
   "execution_count": 12,
   "metadata": {},
   "outputs": [
    {
     "data": {
      "text/html": [
       "<div>\n",
       "<style scoped>\n",
       "    .dataframe tbody tr th:only-of-type {\n",
       "        vertical-align: middle;\n",
       "    }\n",
       "\n",
       "    .dataframe tbody tr th {\n",
       "        vertical-align: top;\n",
       "    }\n",
       "\n",
       "    .dataframe thead tr th {\n",
       "        text-align: left;\n",
       "    }\n",
       "\n",
       "    .dataframe thead tr:last-of-type th {\n",
       "        text-align: right;\n",
       "    }\n",
       "</style>\n",
       "<table border=\"1\" class=\"dataframe\">\n",
       "  <thead>\n",
       "    <tr>\n",
       "      <th></th>\n",
       "      <th colspan=\"2\" halign=\"left\">Momentum</th>\n",
       "      <th colspan=\"2\" halign=\"left\">ShortInterest</th>\n",
       "      <th colspan=\"2\" halign=\"left\">Value</th>\n",
       "    </tr>\n",
       "    <tr>\n",
       "      <th></th>\n",
       "      <th>min</th>\n",
       "      <th>max</th>\n",
       "      <th>min</th>\n",
       "      <th>max</th>\n",
       "      <th>min</th>\n",
       "      <th>max</th>\n",
       "    </tr>\n",
       "    <tr>\n",
       "      <th>industry</th>\n",
       "      <th></th>\n",
       "      <th></th>\n",
       "      <th></th>\n",
       "      <th></th>\n",
       "      <th></th>\n",
       "      <th></th>\n",
       "    </tr>\n",
       "  </thead>\n",
       "  <tbody>\n",
       "    <tr>\n",
       "      <th>FINANCIAL</th>\n",
       "      <td>1.0</td>\n",
       "      <td>247.0</td>\n",
       "      <td>1.0</td>\n",
       "      <td>247.0</td>\n",
       "      <td>1.0</td>\n",
       "      <td>247.0</td>\n",
       "    </tr>\n",
       "    <tr>\n",
       "      <th>TECH</th>\n",
       "      <td>1.0</td>\n",
       "      <td>253.0</td>\n",
       "      <td>1.0</td>\n",
       "      <td>253.0</td>\n",
       "      <td>1.0</td>\n",
       "      <td>253.0</td>\n",
       "    </tr>\n",
       "  </tbody>\n",
       "</table>\n",
       "</div>"
      ],
      "text/plain": [
       "          Momentum        ShortInterest        Value       \n",
       "               min    max           min    max   min    max\n",
       "industry                                                   \n",
       "FINANCIAL      1.0  247.0           1.0  247.0   1.0  247.0\n",
       "TECH           1.0  253.0           1.0  253.0   1.0  253.0"
      ]
     },
     "execution_count": 12,
     "metadata": {},
     "output_type": "execute_result"
    }
   ],
   "source": [
    "# 内置变化函数（如rank）的用法更简洁一些\n",
    "# 行业内降序排名\n",
    "ind_rank = by_industry.rank(ascending=False)\n",
    "ind_rank.groupby(industries).agg(['min','max'])"
   ]
  },
  {
   "cell_type": "code",
   "execution_count": 13,
   "metadata": {},
   "outputs": [
    {
     "data": {
      "text/html": [
       "<div>\n",
       "<style scoped>\n",
       "    .dataframe tbody tr th:only-of-type {\n",
       "        vertical-align: middle;\n",
       "    }\n",
       "\n",
       "    .dataframe tbody tr th {\n",
       "        vertical-align: top;\n",
       "    }\n",
       "\n",
       "    .dataframe thead th {\n",
       "        text-align: right;\n",
       "    }\n",
       "</style>\n",
       "<table border=\"1\" class=\"dataframe\">\n",
       "  <thead>\n",
       "    <tr style=\"text-align: right;\">\n",
       "      <th></th>\n",
       "      <th>Momentum</th>\n",
       "      <th>ShortInterest</th>\n",
       "      <th>Value</th>\n",
       "    </tr>\n",
       "  </thead>\n",
       "  <tbody>\n",
       "    <tr>\n",
       "      <th>MYNBI</th>\n",
       "      <td>0.951755</td>\n",
       "      <td>0.811791</td>\n",
       "      <td>-1.665571</td>\n",
       "    </tr>\n",
       "    <tr>\n",
       "      <th>QPMZJ</th>\n",
       "      <td>1.553600</td>\n",
       "      <td>-0.265932</td>\n",
       "      <td>1.679568</td>\n",
       "    </tr>\n",
       "    <tr>\n",
       "      <th>PLSGQ</th>\n",
       "      <td>-1.639815</td>\n",
       "      <td>-0.505610</td>\n",
       "      <td>-1.311852</td>\n",
       "    </tr>\n",
       "    <tr>\n",
       "      <th>EJEYD</th>\n",
       "      <td>-0.419892</td>\n",
       "      <td>1.231683</td>\n",
       "      <td>0.965752</td>\n",
       "    </tr>\n",
       "    <tr>\n",
       "      <th>TZIRW</th>\n",
       "      <td>-0.819907</td>\n",
       "      <td>-0.833572</td>\n",
       "      <td>-0.683256</td>\n",
       "    </tr>\n",
       "    <tr>\n",
       "      <th>ZTEJD</th>\n",
       "      <td>-0.097975</td>\n",
       "      <td>-1.693564</td>\n",
       "      <td>0.559856</td>\n",
       "    </tr>\n",
       "    <tr>\n",
       "      <th>XCVKP</th>\n",
       "      <td>1.413636</td>\n",
       "      <td>0.321917</td>\n",
       "      <td>1.035734</td>\n",
       "    </tr>\n",
       "    <tr>\n",
       "      <th>RDLNK</th>\n",
       "      <td>-0.983889</td>\n",
       "      <td>0.355293</td>\n",
       "      <td>-1.653480</td>\n",
       "    </tr>\n",
       "    <tr>\n",
       "      <th>TUGRP</th>\n",
       "      <td>0.054660</td>\n",
       "      <td>0.628596</td>\n",
       "      <td>-1.421173</td>\n",
       "    </tr>\n",
       "    <tr>\n",
       "      <th>OQIBZ</th>\n",
       "      <td>1.229861</td>\n",
       "      <td>1.503163</td>\n",
       "      <td>0.751582</td>\n",
       "    </tr>\n",
       "    <tr>\n",
       "      <th>RACXM</th>\n",
       "      <td>0.273302</td>\n",
       "      <td>1.147870</td>\n",
       "      <td>0.409954</td>\n",
       "    </tr>\n",
       "    <tr>\n",
       "      <th>WZVUA</th>\n",
       "      <td>0.040995</td>\n",
       "      <td>-1.694475</td>\n",
       "      <td>-0.218642</td>\n",
       "    </tr>\n",
       "    <tr>\n",
       "      <th>TPKHX</th>\n",
       "      <td>1.287669</td>\n",
       "      <td>-0.027993</td>\n",
       "      <td>-0.503870</td>\n",
       "    </tr>\n",
       "    <tr>\n",
       "      <th>KWCGS</th>\n",
       "      <td>-0.405896</td>\n",
       "      <td>0.713816</td>\n",
       "      <td>0.643834</td>\n",
       "    </tr>\n",
       "    <tr>\n",
       "      <th>HHZEZ</th>\n",
       "      <td>0.545860</td>\n",
       "      <td>-0.909766</td>\n",
       "      <td>-0.363906</td>\n",
       "    </tr>\n",
       "    <tr>\n",
       "      <th>ROCCK</th>\n",
       "      <td>1.245679</td>\n",
       "      <td>1.469622</td>\n",
       "      <td>0.979748</td>\n",
       "    </tr>\n",
       "    <tr>\n",
       "      <th>QPDJR</th>\n",
       "      <td>-0.783798</td>\n",
       "      <td>0.853780</td>\n",
       "      <td>0.055986</td>\n",
       "    </tr>\n",
       "    <tr>\n",
       "      <th>JWDRK</th>\n",
       "      <td>-1.455625</td>\n",
       "      <td>-0.419892</td>\n",
       "      <td>-0.419892</td>\n",
       "    </tr>\n",
       "    <tr>\n",
       "      <th>RGZTR</th>\n",
       "      <td>1.216196</td>\n",
       "      <td>1.626149</td>\n",
       "      <td>1.038549</td>\n",
       "    </tr>\n",
       "    <tr>\n",
       "      <th>SJOCT</th>\n",
       "      <td>-1.049730</td>\n",
       "      <td>1.637579</td>\n",
       "      <td>-0.909766</td>\n",
       "    </tr>\n",
       "    <tr>\n",
       "      <th>ZMKSH</th>\n",
       "      <td>0.237939</td>\n",
       "      <td>0.223942</td>\n",
       "      <td>-0.937759</td>\n",
       "    </tr>\n",
       "    <tr>\n",
       "      <th>JFGFB</th>\n",
       "      <td>-1.339182</td>\n",
       "      <td>-1.188866</td>\n",
       "      <td>1.694475</td>\n",
       "    </tr>\n",
       "    <tr>\n",
       "      <th>TVIPC</th>\n",
       "      <td>-1.581593</td>\n",
       "      <td>-1.343654</td>\n",
       "      <td>1.413636</td>\n",
       "    </tr>\n",
       "    <tr>\n",
       "      <th>CVYEE</th>\n",
       "      <td>0.204977</td>\n",
       "      <td>-0.587600</td>\n",
       "      <td>0.232307</td>\n",
       "    </tr>\n",
       "    <tr>\n",
       "      <th>BCWRV</th>\n",
       "      <td>1.455625</td>\n",
       "      <td>-1.091719</td>\n",
       "      <td>1.707561</td>\n",
       "    </tr>\n",
       "    <tr>\n",
       "      <th>MWQIQ</th>\n",
       "      <td>-0.811791</td>\n",
       "      <td>-1.679568</td>\n",
       "      <td>0.405896</td>\n",
       "    </tr>\n",
       "    <tr>\n",
       "      <th>ZHGVS</th>\n",
       "      <td>-0.792577</td>\n",
       "      <td>0.833572</td>\n",
       "      <td>-1.284521</td>\n",
       "    </tr>\n",
       "    <tr>\n",
       "      <th>NSIOP</th>\n",
       "      <td>1.311852</td>\n",
       "      <td>1.284521</td>\n",
       "      <td>-1.516829</td>\n",
       "    </tr>\n",
       "    <tr>\n",
       "      <th>VUWZL</th>\n",
       "      <td>-0.942893</td>\n",
       "      <td>1.325517</td>\n",
       "      <td>1.298187</td>\n",
       "    </tr>\n",
       "    <tr>\n",
       "      <th>CKTDP</th>\n",
       "      <td>-1.007741</td>\n",
       "      <td>0.951755</td>\n",
       "      <td>-1.063726</td>\n",
       "    </tr>\n",
       "    <tr>\n",
       "      <th>...</th>\n",
       "      <td>...</td>\n",
       "      <td>...</td>\n",
       "      <td>...</td>\n",
       "    </tr>\n",
       "    <tr>\n",
       "      <th>CCPMS</th>\n",
       "      <td>0.997554</td>\n",
       "      <td>-1.339182</td>\n",
       "      <td>-0.273302</td>\n",
       "    </tr>\n",
       "    <tr>\n",
       "      <th>NRCIP</th>\n",
       "      <td>-1.161535</td>\n",
       "      <td>-0.997554</td>\n",
       "      <td>-1.544159</td>\n",
       "    </tr>\n",
       "    <tr>\n",
       "      <th>HDJEL</th>\n",
       "      <td>0.629838</td>\n",
       "      <td>1.161701</td>\n",
       "      <td>-0.881773</td>\n",
       "    </tr>\n",
       "    <tr>\n",
       "      <th>ZDEVB</th>\n",
       "      <td>-1.708140</td>\n",
       "      <td>1.462168</td>\n",
       "      <td>0.942893</td>\n",
       "    </tr>\n",
       "    <tr>\n",
       "      <th>VESRG</th>\n",
       "      <td>0.083978</td>\n",
       "      <td>-0.279928</td>\n",
       "      <td>-0.615842</td>\n",
       "    </tr>\n",
       "    <tr>\n",
       "      <th>ABMRW</th>\n",
       "      <td>-1.448503</td>\n",
       "      <td>-1.161535</td>\n",
       "      <td>-1.339182</td>\n",
       "    </tr>\n",
       "    <tr>\n",
       "      <th>YTPWW</th>\n",
       "      <td>-1.626149</td>\n",
       "      <td>1.161535</td>\n",
       "      <td>0.601265</td>\n",
       "    </tr>\n",
       "    <tr>\n",
       "      <th>DPRLY</th>\n",
       "      <td>-0.737917</td>\n",
       "      <td>0.970224</td>\n",
       "      <td>0.191312</td>\n",
       "    </tr>\n",
       "    <tr>\n",
       "      <th>KDVAH</th>\n",
       "      <td>-0.265932</td>\n",
       "      <td>0.923762</td>\n",
       "      <td>-1.091719</td>\n",
       "    </tr>\n",
       "    <tr>\n",
       "      <th>HPJIH</th>\n",
       "      <td>1.721557</td>\n",
       "      <td>-1.259676</td>\n",
       "      <td>0.727813</td>\n",
       "    </tr>\n",
       "    <tr>\n",
       "      <th>APLQK</th>\n",
       "      <td>-1.105715</td>\n",
       "      <td>0.069982</td>\n",
       "      <td>0.811791</td>\n",
       "    </tr>\n",
       "    <tr>\n",
       "      <th>CCJSN</th>\n",
       "      <td>-0.054660</td>\n",
       "      <td>0.218642</td>\n",
       "      <td>0.860903</td>\n",
       "    </tr>\n",
       "    <tr>\n",
       "      <th>HXLMY</th>\n",
       "      <td>1.595589</td>\n",
       "      <td>0.587849</td>\n",
       "      <td>-0.349910</td>\n",
       "    </tr>\n",
       "    <tr>\n",
       "      <th>EHJGX</th>\n",
       "      <td>-0.368958</td>\n",
       "      <td>-1.079545</td>\n",
       "      <td>-1.571489</td>\n",
       "    </tr>\n",
       "    <tr>\n",
       "      <th>YPVZL</th>\n",
       "      <td>0.055986</td>\n",
       "      <td>-1.497615</td>\n",
       "      <td>-0.993744</td>\n",
       "    </tr>\n",
       "    <tr>\n",
       "      <th>JMTEY</th>\n",
       "      <td>-0.475878</td>\n",
       "      <td>0.559856</td>\n",
       "      <td>0.363906</td>\n",
       "    </tr>\n",
       "    <tr>\n",
       "      <th>DMLQP</th>\n",
       "      <td>-1.516829</td>\n",
       "      <td>0.601265</td>\n",
       "      <td>0.259637</td>\n",
       "    </tr>\n",
       "    <tr>\n",
       "      <th>HUWLU</th>\n",
       "      <td>0.601845</td>\n",
       "      <td>-0.139964</td>\n",
       "      <td>0.167957</td>\n",
       "    </tr>\n",
       "    <tr>\n",
       "      <th>LNILM</th>\n",
       "      <td>0.819907</td>\n",
       "      <td>-0.136651</td>\n",
       "      <td>0.150316</td>\n",
       "    </tr>\n",
       "    <tr>\n",
       "      <th>YYWJD</th>\n",
       "      <td>0.825788</td>\n",
       "      <td>0.293924</td>\n",
       "      <td>-0.125968</td>\n",
       "    </tr>\n",
       "    <tr>\n",
       "      <th>PJDOE</th>\n",
       "      <td>1.462168</td>\n",
       "      <td>-0.081991</td>\n",
       "      <td>-0.341628</td>\n",
       "    </tr>\n",
       "    <tr>\n",
       "      <th>LHXFK</th>\n",
       "      <td>1.106875</td>\n",
       "      <td>-0.614930</td>\n",
       "      <td>-0.314298</td>\n",
       "    </tr>\n",
       "    <tr>\n",
       "      <th>PHDVM</th>\n",
       "      <td>1.049730</td>\n",
       "      <td>0.083978</td>\n",
       "      <td>-0.923762</td>\n",
       "    </tr>\n",
       "    <tr>\n",
       "      <th>MOQOS</th>\n",
       "      <td>0.251935</td>\n",
       "      <td>-1.609586</td>\n",
       "      <td>-0.139964</td>\n",
       "    </tr>\n",
       "    <tr>\n",
       "      <th>THVMQ</th>\n",
       "      <td>0.874568</td>\n",
       "      <td>0.642261</td>\n",
       "      <td>1.216196</td>\n",
       "    </tr>\n",
       "    <tr>\n",
       "      <th>JPHKQ</th>\n",
       "      <td>0.671827</td>\n",
       "      <td>-0.559856</td>\n",
       "      <td>0.867777</td>\n",
       "    </tr>\n",
       "    <tr>\n",
       "      <th>VACPK</th>\n",
       "      <td>1.257191</td>\n",
       "      <td>-0.655926</td>\n",
       "      <td>1.065879</td>\n",
       "    </tr>\n",
       "    <tr>\n",
       "      <th>MHNBS</th>\n",
       "      <td>1.371647</td>\n",
       "      <td>1.483618</td>\n",
       "      <td>-0.671827</td>\n",
       "    </tr>\n",
       "    <tr>\n",
       "      <th>YBNCI</th>\n",
       "      <td>-0.710586</td>\n",
       "      <td>-0.218642</td>\n",
       "      <td>0.013665</td>\n",
       "    </tr>\n",
       "    <tr>\n",
       "      <th>GXKFD</th>\n",
       "      <td>-1.667145</td>\n",
       "      <td>-0.956559</td>\n",
       "      <td>1.202531</td>\n",
       "    </tr>\n",
       "  </tbody>\n",
       "</table>\n",
       "<p>500 rows × 3 columns</p>\n",
       "</div>"
      ],
      "text/plain": [
       "       Momentum  ShortInterest     Value\n",
       "MYNBI  0.951755       0.811791 -1.665571\n",
       "QPMZJ  1.553600      -0.265932  1.679568\n",
       "PLSGQ -1.639815      -0.505610 -1.311852\n",
       "EJEYD -0.419892       1.231683  0.965752\n",
       "TZIRW -0.819907      -0.833572 -0.683256\n",
       "ZTEJD -0.097975      -1.693564  0.559856\n",
       "XCVKP  1.413636       0.321917  1.035734\n",
       "RDLNK -0.983889       0.355293 -1.653480\n",
       "TUGRP  0.054660       0.628596 -1.421173\n",
       "OQIBZ  1.229861       1.503163  0.751582\n",
       "RACXM  0.273302       1.147870  0.409954\n",
       "WZVUA  0.040995      -1.694475 -0.218642\n",
       "TPKHX  1.287669      -0.027993 -0.503870\n",
       "KWCGS -0.405896       0.713816  0.643834\n",
       "HHZEZ  0.545860      -0.909766 -0.363906\n",
       "ROCCK  1.245679       1.469622  0.979748\n",
       "QPDJR -0.783798       0.853780  0.055986\n",
       "JWDRK -1.455625      -0.419892 -0.419892\n",
       "RGZTR  1.216196       1.626149  1.038549\n",
       "SJOCT -1.049730       1.637579 -0.909766\n",
       "ZMKSH  0.237939       0.223942 -0.937759\n",
       "JFGFB -1.339182      -1.188866  1.694475\n",
       "TVIPC -1.581593      -1.343654  1.413636\n",
       "CVYEE  0.204977      -0.587600  0.232307\n",
       "BCWRV  1.455625      -1.091719  1.707561\n",
       "MWQIQ -0.811791      -1.679568  0.405896\n",
       "ZHGVS -0.792577       0.833572 -1.284521\n",
       "NSIOP  1.311852       1.284521 -1.516829\n",
       "VUWZL -0.942893       1.325517  1.298187\n",
       "CKTDP -1.007741       0.951755 -1.063726\n",
       "...         ...            ...       ...\n",
       "CCPMS  0.997554      -1.339182 -0.273302\n",
       "NRCIP -1.161535      -0.997554 -1.544159\n",
       "HDJEL  0.629838       1.161701 -0.881773\n",
       "ZDEVB -1.708140       1.462168  0.942893\n",
       "VESRG  0.083978      -0.279928 -0.615842\n",
       "ABMRW -1.448503      -1.161535 -1.339182\n",
       "YTPWW -1.626149       1.161535  0.601265\n",
       "DPRLY -0.737917       0.970224  0.191312\n",
       "KDVAH -0.265932       0.923762 -1.091719\n",
       "HPJIH  1.721557      -1.259676  0.727813\n",
       "APLQK -1.105715       0.069982  0.811791\n",
       "CCJSN -0.054660       0.218642  0.860903\n",
       "HXLMY  1.595589       0.587849 -0.349910\n",
       "EHJGX -0.368958      -1.079545 -1.571489\n",
       "YPVZL  0.055986      -1.497615 -0.993744\n",
       "JMTEY -0.475878       0.559856  0.363906\n",
       "DMLQP -1.516829       0.601265  0.259637\n",
       "HUWLU  0.601845      -0.139964  0.167957\n",
       "LNILM  0.819907      -0.136651  0.150316\n",
       "YYWJD  0.825788       0.293924 -0.125968\n",
       "PJDOE  1.462168      -0.081991 -0.341628\n",
       "LHXFK  1.106875      -0.614930 -0.314298\n",
       "PHDVM  1.049730       0.083978 -0.923762\n",
       "MOQOS  0.251935      -1.609586 -0.139964\n",
       "THVMQ  0.874568       0.642261  1.216196\n",
       "JPHKQ  0.671827      -0.559856  0.867777\n",
       "VACPK  1.257191      -0.655926  1.065879\n",
       "MHNBS  1.371647       1.483618 -0.671827\n",
       "YBNCI -0.710586      -0.218642  0.013665\n",
       "GXKFD -1.667145      -0.956559  1.202531\n",
       "\n",
       "[500 rows x 3 columns]"
      ]
     },
     "execution_count": 13,
     "metadata": {},
     "output_type": "execute_result"
    }
   ],
   "source": [
    "# 在股票投资组合的定量分析中，“排名和标准化”是一种很常见的变换运算组合。\n",
    "# 通过将rank和zscore链接在一起即可完成整个变换过程\n",
    "# 行业内排名和标准化\n",
    "by_industry.apply(lambda x: zscore(x.rank()))"
   ]
  },
  {
   "cell_type": "markdown",
   "metadata": {},
   "source": [
    "# 分组因子暴露\n",
    "因子分析是投资组合定量管理中的一个技术。投资组合的持有量和性能（收益与损失）可以被分解为一个或多个表示投资组合权重的因子（风险因子就是其中之一）。\n",
    "- 某只股票的价格与某个基准（比如标准普尔500指数）的协动性被称为其贝塔风险系数（beta,一种常见的风险因子）"
   ]
  },
  {
   "cell_type": "code",
   "execution_count": 14,
   "metadata": {},
   "outputs": [
    {
     "data": {
      "text/plain": [
       "array(['UNUJV', 'HMGTW', 'FJMOJ', 'ETQCI', 'PMENZ'], dtype='<U5')"
      ]
     },
     "execution_count": 14,
     "metadata": {},
     "output_type": "execute_result"
    }
   ],
   "source": [
    "# 以一个人为构成的投资组合为例，它由三个随机生成的因子（通常称为因子载荷）和一些权重构成\n",
    "from numpy.random import rand\n",
    "import numpy as np\n",
    "fac1,fac2,fac3 = np.random.rand(3,1000)\n",
    "ticker_subset = tickers.take(np.random.permutation(N))  # permutaion(N):对[0,N)之间的序列进行随机排序\n",
    "ticker_subset[:5]"
   ]
  },
  {
   "cell_type": "code",
   "execution_count": 15,
   "metadata": {},
   "outputs": [
    {
     "data": {
      "text/plain": [
       "UNUJV    0.968903\n",
       "HMGTW   -0.246789\n",
       "FJMOJ    1.047932\n",
       "ETQCI    1.528396\n",
       "PMENZ   -0.180584\n",
       "dtype: float64"
      ]
     },
     "execution_count": 15,
     "metadata": {},
     "output_type": "execute_result"
    }
   ],
   "source": [
    "# 因子加权和以及噪声\n",
    "port = pd.Series(0.7*fac1-1.2*fac2+0.3*fac3+rand(1000),\n",
    "                index = ticker_subset)\n",
    "port[:5]"
   ]
  },
  {
   "cell_type": "code",
   "execution_count": 16,
   "metadata": {},
   "outputs": [
    {
     "data": {
      "text/html": [
       "<div>\n",
       "<style scoped>\n",
       "    .dataframe tbody tr th:only-of-type {\n",
       "        vertical-align: middle;\n",
       "    }\n",
       "\n",
       "    .dataframe tbody tr th {\n",
       "        vertical-align: top;\n",
       "    }\n",
       "\n",
       "    .dataframe thead th {\n",
       "        text-align: right;\n",
       "    }\n",
       "</style>\n",
       "<table border=\"1\" class=\"dataframe\">\n",
       "  <thead>\n",
       "    <tr style=\"text-align: right;\">\n",
       "      <th></th>\n",
       "      <th>f1</th>\n",
       "      <th>f2</th>\n",
       "      <th>f3</th>\n",
       "    </tr>\n",
       "  </thead>\n",
       "  <tbody>\n",
       "    <tr>\n",
       "      <th>UNUJV</th>\n",
       "      <td>0.310559</td>\n",
       "      <td>0.153851</td>\n",
       "      <td>0.908788</td>\n",
       "    </tr>\n",
       "    <tr>\n",
       "      <th>HMGTW</th>\n",
       "      <td>0.101951</td>\n",
       "      <td>0.882656</td>\n",
       "      <td>0.774865</td>\n",
       "    </tr>\n",
       "    <tr>\n",
       "      <th>FJMOJ</th>\n",
       "      <td>0.972846</td>\n",
       "      <td>0.500346</td>\n",
       "      <td>0.265660</td>\n",
       "    </tr>\n",
       "    <tr>\n",
       "      <th>ETQCI</th>\n",
       "      <td>0.854082</td>\n",
       "      <td>0.168083</td>\n",
       "      <td>0.745699</td>\n",
       "    </tr>\n",
       "    <tr>\n",
       "      <th>PMENZ</th>\n",
       "      <td>0.466477</td>\n",
       "      <td>0.713596</td>\n",
       "      <td>0.434021</td>\n",
       "    </tr>\n",
       "  </tbody>\n",
       "</table>\n",
       "</div>"
      ],
      "text/plain": [
       "             f1        f2        f3\n",
       "UNUJV  0.310559  0.153851  0.908788\n",
       "HMGTW  0.101951  0.882656  0.774865\n",
       "FJMOJ  0.972846  0.500346  0.265660\n",
       "ETQCI  0.854082  0.168083  0.745699\n",
       "PMENZ  0.466477  0.713596  0.434021"
      ]
     },
     "execution_count": 16,
     "metadata": {},
     "output_type": "execute_result"
    }
   ],
   "source": [
    "factors = pd.DataFrame({'f1':fac1,'f2':fac2,'f3':fac3},\n",
    "                       index=ticker_subset)\n",
    "factors[:5]"
   ]
  },
  {
   "cell_type": "code",
   "execution_count": 17,
   "metadata": {},
   "outputs": [
    {
     "data": {
      "text/plain": [
       "f1    0.398062\n",
       "f2   -0.699874\n",
       "f3    0.119866\n",
       "dtype: float64"
      ]
     },
     "execution_count": 17,
     "metadata": {},
     "output_type": "execute_result"
    }
   ],
   "source": [
    "# 各因子与投资组合之间的矢量相关性可能说明不了什么问题\n",
    "factors.corrwith(port)"
   ]
  },
  {
   "cell_type": "code",
   "execution_count": 27,
   "metadata": {},
   "outputs": [
    {
     "name": "stdout",
     "output_type": "stream",
     "text": [
      "const    0.544551\n",
      "f1       0.723653\n",
      "f2      -1.229669\n",
      "f3       0.230682\n",
      "dtype: float64\n"
     ]
    }
   ],
   "source": [
    "# 计算因子暴露的标准方式是最小二乘回归，使用statsmodels.api.ols(将factors作为解释变量)即可计算出整个投资组合的暴露\n",
    "import statsmodels.api as sm\n",
    "X = sm.add_constant(factors)  # 增加常数项\n",
    "model = sm.OLS(port,X)\n",
    "results = model.fit()\n",
    "print(results.params)  # 即系数beta值"
   ]
  },
  {
   "cell_type": "code",
   "execution_count": 28,
   "metadata": {},
   "outputs": [
    {
     "name": "stdout",
     "output_type": "stream",
     "text": [
      "                            OLS Regression Results                            \n",
      "==============================================================================\n",
      "Dep. Variable:                      y   R-squared:                       0.676\n",
      "Model:                            OLS   Adj. R-squared:                  0.675\n",
      "Method:                 Least Squares   F-statistic:                     693.9\n",
      "Date:                Tue, 23 Jun 2020   Prob (F-statistic):          2.01e-243\n",
      "Time:                        21:44:32   Log-Likelihood:                -183.76\n",
      "No. Observations:                1000   AIC:                             375.5\n",
      "Df Residuals:                     996   BIC:                             395.2\n",
      "Df Model:                           3                                         \n",
      "Covariance Type:            nonrobust                                         \n",
      "==============================================================================\n",
      "                 coef    std err          t      P>|t|      [0.025      0.975]\n",
      "------------------------------------------------------------------------------\n",
      "const          0.5446      0.029     18.939      0.000       0.488       0.601\n",
      "f1             0.7237      0.032     22.786      0.000       0.661       0.786\n",
      "f2            -1.2297      0.031    -39.392      0.000      -1.291      -1.168\n",
      "f3             0.2307      0.032      7.281      0.000       0.169       0.293\n",
      "==============================================================================\n",
      "Omnibus:                      820.210   Durbin-Watson:                   2.033\n",
      "Prob(Omnibus):                  0.000   Jarque-Bera (JB):               61.483\n",
      "Skew:                          -0.029   Prob(JB):                     4.46e-14\n",
      "Kurtosis:                       1.787   Cond. No.                         6.10\n",
      "==============================================================================\n",
      "\n",
      "Warnings:\n",
      "[1] Standard Errors assume that the covariance matrix of the errors is correctly specified.\n"
     ]
    }
   ],
   "source": [
    "print(results.summary())"
   ]
  },
  {
   "cell_type": "code",
   "execution_count": 122,
   "metadata": {},
   "outputs": [
    {
     "name": "stdout",
     "output_type": "stream",
     "text": [
      "FINANCIAL的暴露量\n",
      "const    0.532183\n",
      "f1       0.742246\n",
      "f2      -1.269758\n",
      "f3       0.278664\n",
      "dtype: float64\n",
      "TECH的暴露量\n",
      "const    0.552136\n",
      "f1       0.707606\n",
      "f2      -1.188736\n",
      "f3       0.187569\n",
      "dtype: float64\n"
     ]
    }
   ],
   "source": [
    "# 根据行业进行分组，并应用上面的函数，传入因子载荷的DataFrame\n",
    "by_ind = port.groupby(industries)\n",
    "\n",
    "# 可以通过groupby计算各行业的暴露量\n",
    "def CalExpobyInd(by_ind):\n",
    "    groupedItems=[]\n",
    "    for i in by_ind:\n",
    "        groupedItems.append(i)\n",
    "   \n",
    "    for i in range(2):\n",
    "        y=s[i][1]\n",
    "        indexs=s[i][1].keys().tolist()\n",
    "        x=factors.ix[indexs]\n",
    "        grouped = y.agg(beta_exposure,factors=x)\n",
    "        print(s[i][0]+'的暴露量')\n",
    "        print(grouped)\n",
    "\n",
    "def beta_exposure(chunk,factors=None):\n",
    "    X = sm.add_constant(factors)  # 增加常数项\n",
    "    model = sm.OLS(chunk,X)\n",
    "    results = model.fit()\n",
    "    return results.params\n",
    "\n",
    "CalExpobyInd(by_ind)"
   ]
  },
  {
   "cell_type": "markdown",
   "metadata": {},
   "source": [
    "# 十分位和四分位的分析\n",
    "股票投资的性能可以根据各股的市盈率被划入四分位（四个大小相等的块）。通过pandas.qcut和groupby可以实现分位数"
   ]
  },
  {
   "cell_type": "code",
   "execution_count": 4,
   "metadata": {},
   "outputs": [
    {
     "data": {
      "text/html": [
       "<div>\n",
       "<style scoped>\n",
       "    .dataframe tbody tr th:only-of-type {\n",
       "        vertical-align: middle;\n",
       "    }\n",
       "\n",
       "    .dataframe tbody tr th {\n",
       "        vertical-align: top;\n",
       "    }\n",
       "\n",
       "    .dataframe thead th {\n",
       "        text-align: right;\n",
       "    }\n",
       "</style>\n",
       "<table border=\"1\" class=\"dataframe\">\n",
       "  <thead>\n",
       "    <tr style=\"text-align: right;\">\n",
       "      <th></th>\n",
       "      <th>High</th>\n",
       "      <th>Low</th>\n",
       "      <th>Open</th>\n",
       "      <th>Close</th>\n",
       "      <th>Volume</th>\n",
       "      <th>Adj Close</th>\n",
       "    </tr>\n",
       "    <tr>\n",
       "      <th>Date</th>\n",
       "      <th></th>\n",
       "      <th></th>\n",
       "      <th></th>\n",
       "      <th></th>\n",
       "      <th></th>\n",
       "      <th></th>\n",
       "    </tr>\n",
       "  </thead>\n",
       "  <tbody>\n",
       "    <tr>\n",
       "      <th>2012-07-23</th>\n",
       "      <td>136.380005</td>\n",
       "      <td>133.839996</td>\n",
       "      <td>134.470001</td>\n",
       "      <td>135.089996</td>\n",
       "      <td>145210900.0</td>\n",
       "      <td>115.059578</td>\n",
       "    </tr>\n",
       "    <tr>\n",
       "      <th>2012-07-24</th>\n",
       "      <td>135.250000</td>\n",
       "      <td>133.029999</td>\n",
       "      <td>135.190002</td>\n",
       "      <td>133.929993</td>\n",
       "      <td>173301200.0</td>\n",
       "      <td>114.071533</td>\n",
       "    </tr>\n",
       "    <tr>\n",
       "      <th>2012-07-25</th>\n",
       "      <td>134.559998</td>\n",
       "      <td>133.250000</td>\n",
       "      <td>134.210007</td>\n",
       "      <td>133.960007</td>\n",
       "      <td>129122300.0</td>\n",
       "      <td>114.097115</td>\n",
       "    </tr>\n",
       "    <tr>\n",
       "      <th>2012-07-26</th>\n",
       "      <td>136.460007</td>\n",
       "      <td>135.259995</td>\n",
       "      <td>135.889999</td>\n",
       "      <td>136.169998</td>\n",
       "      <td>156526500.0</td>\n",
       "      <td>115.979378</td>\n",
       "    </tr>\n",
       "    <tr>\n",
       "      <th>2012-07-27</th>\n",
       "      <td>139.070007</td>\n",
       "      <td>136.139999</td>\n",
       "      <td>136.889999</td>\n",
       "      <td>138.679993</td>\n",
       "      <td>236768900.0</td>\n",
       "      <td>118.117233</td>\n",
       "    </tr>\n",
       "  </tbody>\n",
       "</table>\n",
       "</div>"
      ],
      "text/plain": [
       "                  High         Low        Open       Close       Volume  \\\n",
       "Date                                                                      \n",
       "2012-07-23  136.380005  133.839996  134.470001  135.089996  145210900.0   \n",
       "2012-07-24  135.250000  133.029999  135.190002  133.929993  173301200.0   \n",
       "2012-07-25  134.559998  133.250000  134.210007  133.960007  129122300.0   \n",
       "2012-07-26  136.460007  135.259995  135.889999  136.169998  156526500.0   \n",
       "2012-07-27  139.070007  136.139999  136.889999  138.679993  236768900.0   \n",
       "\n",
       "             Adj Close  \n",
       "Date                    \n",
       "2012-07-23  115.059578  \n",
       "2012-07-24  114.071533  \n",
       "2012-07-25  114.097115  \n",
       "2012-07-26  115.979378  \n",
       "2012-07-27  118.117233  "
      ]
     },
     "execution_count": 4,
     "metadata": {},
     "output_type": "execute_result"
    }
   ],
   "source": [
    "# 利用跟随策略或动量交易策略通过SPX交易所交易基金买卖标准普尔500指数\n",
    "# 下载历史价格\n",
    "import pandas_datareader.data as web\n",
    "data = web.get_data_yahoo(\"SPY\",'2006-01-01','2012-07-27')\n",
    "data.tail()"
   ]
  },
  {
   "cell_type": "code",
   "execution_count": 222,
   "metadata": {},
   "outputs": [
    {
     "data": {
      "text/plain": [
       "Date\n",
       "2006-01-03         NaN\n",
       "2006-01-04    0.004736\n",
       "2006-01-05    0.000628\n",
       "2006-01-06    0.008321\n",
       "2006-01-09    0.002569\n",
       "Name: Adj Close, dtype: float64"
      ]
     },
     "execution_count": 222,
     "metadata": {},
     "output_type": "execute_result"
    }
   ],
   "source": [
    "# 计算日收益率，并编写一个用于将收益率变化为趋势信号（通过滞后移动形式）的函数\n",
    "px = data['Adj Close']\n",
    "returns = px.pct_change()  # 当前项\n",
    "returns.head()"
   ]
  },
  {
   "cell_type": "code",
   "execution_count": 224,
   "metadata": {},
   "outputs": [],
   "source": [
    "def to_index(rets):\n",
    "    index = (1+rets).cumprod()\n",
    "    first_loc = max(index.notnull().argmax()-pd.Timedelta(days=1),index.index[0])\n",
    "    index[first_loc]=1\n",
    "    return index\n",
    "\n",
    "def trend_signal(rets,lookback,lag):\n",
    "    signal=pd.rolling_sum(rets,lookback,min_periods=lookback-5)\n",
    "    return signal.shift(lag)"
   ]
  },
  {
   "cell_type": "code",
   "execution_count": 225,
   "metadata": {},
   "outputs": [
    {
     "name": "stderr",
     "output_type": "stream",
     "text": [
      "D:\\Python\\anaconda\\lib\\site-packages\\ipykernel_launcher.py:8: FutureWarning: pd.rolling_sum is deprecated for Series and will be removed in a future version, replace with \n",
      "\tSeries.rolling(window=100,min_periods=95,center=False).sum()\n",
      "  \n",
      "D:\\Python\\anaconda\\lib\\site-packages\\ipykernel_launcher.py:3: FutureWarning: \n",
      ".resample() is now a deferred operation\n",
      "You called resample(...) on this deferred object which materialized it into a series\n",
      "by implicitly taking the mean.  Use .resample(...).mean() instead\n",
      "  This is separate from the ipykernel package so we can avoid doing imports until\n",
      "D:\\Python\\anaconda\\lib\\site-packages\\ipykernel_launcher.py:3: FutureWarning: fill_method is deprecated to .resample()\n",
      "the new syntax is .resample(...).ffill()\n",
      "  This is separate from the ipykernel package so we can avoid doing imports until\n"
     ]
    },
    {
     "data": {
      "text/plain": [
       "Date\n",
       "2012-07-23    0.004223\n",
       "2012-07-24    0.004223\n",
       "2012-07-25    0.004223\n",
       "2012-07-26    0.004223\n",
       "2012-07-27    0.005242\n",
       "Freq: B, Name: Adj Close, dtype: float64"
      ]
     },
     "execution_count": 225,
     "metadata": {},
     "output_type": "execute_result"
    }
   ],
   "source": [
    "# 创建和测试一种根据每周五动量信号进行交易的交易策略\n",
    "signal = trend_signal(returns,100,3)\n",
    "trade_friday = signal.resample('W-FRI').resample('B',fill_method='ffill')  # \n",
    "trade_friday.tail()"
   ]
  },
  {
   "cell_type": "code",
   "execution_count": 226,
   "metadata": {},
   "outputs": [
    {
     "data": {
      "text/plain": [
       "Date\n",
       "2012-07-23    0.004223\n",
       "2012-07-24    0.004223\n",
       "2012-07-25    0.004223\n",
       "2012-07-26    0.004223\n",
       "2012-07-27    0.004223\n",
       "Freq: B, Name: Adj Close, dtype: float64"
      ]
     },
     "execution_count": 226,
     "metadata": {},
     "output_type": "execute_result"
    }
   ],
   "source": [
    "trade_friday.shift(1).tail()"
   ]
  },
  {
   "cell_type": "code",
   "execution_count": 227,
   "metadata": {},
   "outputs": [
    {
     "data": {
      "text/plain": [
       "Date\n",
       "2012-07-23   -0.010112\n",
       "2012-07-24   -0.008587\n",
       "2012-07-25    0.000224\n",
       "2012-07-26    0.016497\n",
       "2012-07-27    0.018433\n",
       "Name: Adj Close, dtype: float64"
      ]
     },
     "execution_count": 227,
     "metadata": {},
     "output_type": "execute_result"
    }
   ],
   "source": [
    "returns.tail()"
   ]
  },
  {
   "cell_type": "code",
   "execution_count": 228,
   "metadata": {},
   "outputs": [
    {
     "data": {
      "text/plain": [
       "Date\n",
       "2006-01-03   NaN\n",
       "2006-01-04   NaN\n",
       "2006-01-05   NaN\n",
       "2006-01-06   NaN\n",
       "2006-01-09   NaN\n",
       "Name: Adj Close, dtype: float64"
      ]
     },
     "execution_count": 228,
     "metadata": {},
     "output_type": "execute_result"
    }
   ],
   "source": [
    "trade_rets = trade_friday.shift(1)*returns\n",
    "trade_rets.head()"
   ]
  },
  {
   "cell_type": "code",
   "execution_count": 229,
   "metadata": {},
   "outputs": [
    {
     "name": "stderr",
     "output_type": "stream",
     "text": [
      "D:\\Python\\anaconda\\lib\\site-packages\\ipykernel_launcher.py:3: FutureWarning: 'argmax' is deprecated. Use 'idxmax' instead. The behavior of 'argmax' will be corrected to return the positional maximum in the future. Use 'series.values.argmax' to get the position of the maximum now.\n",
      "  This is separate from the ipykernel package so we can avoid doing imports until\n"
     ]
    },
    {
     "data": {
      "text/plain": [
       "<matplotlib.axes._subplots.AxesSubplot at 0xeed40f0>"
      ]
     },
     "execution_count": 229,
     "metadata": {},
     "output_type": "execute_result"
    },
    {
     "data": {
      "image/png": "[encoded data removed]",
      "text/plain": [
       "<matplotlib.figure.Figure at 0xeed4390>"
      ]
     },
     "metadata": {},
     "output_type": "display_data"
    }
   ],
   "source": [
    "# 将该策略的收益率转换为一个收益指数，并绘制一张图表\n",
    "to_index(trade_rets).plot()"
   ]
  },
  {
   "cell_type": "code",
   "execution_count": 230,
   "metadata": {},
   "outputs": [
    {
     "name": "stderr",
     "output_type": "stream",
     "text": [
      "D:\\Python\\anaconda\\lib\\site-packages\\ipykernel_launcher.py:3: FutureWarning: pd.rolling_std is deprecated for Series and will be removed in a future version, replace with \n",
      "\tSeries.rolling(window=250,min_periods=200,center=False).std()\n",
      "  This is separate from the ipykernel package so we can avoid doing imports until\n"
     ]
    },
    {
     "data": {
      "text/plain": [
       "Date\n",
       "2012-07-23    0.231203\n",
       "2012-07-24    0.230438\n",
       "2012-07-25    0.230415\n",
       "2012-07-26    0.230871\n",
       "2012-07-27    0.231525\n",
       "Name: Adj Close, dtype: float64"
      ]
     },
     "execution_count": 230,
     "metadata": {},
     "output_type": "execute_result"
    }
   ],
   "source": [
    "# 假如你希望将该策略的性能按不同大小的交易期波幅进行划分。\n",
    "# 年度标准差是计算波幅的一种简单方法，可以同计算夏普比率来观察不同波动机制下的风险收益率\n",
    "vol = pd.rolling_std(returns,250,min_periods=200)*np.sqrt(250)\n",
    "vol.tail()"
   ]
  },
  {
   "cell_type": "code",
   "execution_count": 231,
   "metadata": {},
   "outputs": [],
   "source": [
    "def sharpe(rets,ann=250):\n",
    "    return rets.mean()/rets.std()*np.sqrt(ann)"
   ]
  },
  {
   "cell_type": "code",
   "execution_count": 237,
   "metadata": {},
   "outputs": [
    {
     "name": "stderr",
     "output_type": "stream",
     "text": [
      "D:\\Python\\anaconda\\lib\\site-packages\\ipykernel_launcher.py:2: DeprecationWarning: \n",
      ".ix is deprecated. Please use\n",
      ".loc for label based indexing or\n",
      ".iloc for positional indexing\n",
      "\n",
      "See the documentation here:\n",
      "http://pandas.pydata.org/pandas-docs/stable/indexing.html#ix-indexer-is-deprecated\n",
      "  \n"
     ]
    },
    {
     "data": {
      "text/plain": [
       "Adj Close\n",
       "(0.0944, 0.16]   -0.012374\n",
       "(0.16, 0.188]     0.278558\n",
       "(0.188, 0.231]   -0.325217\n",
       "(0.231, 0.457]    0.525923\n",
       "Name: Adj Close, dtype: float64"
      ]
     },
     "execution_count": 237,
     "metadata": {},
     "output_type": "execute_result"
    }
   ],
   "source": [
    "# 利用qcut将vol划分为四等份，并用sharpe进行聚合\n",
    "trade_rets =trade_rets.ix[vol.index]  # 由于两个数据的长度不一样，将长度都设置为vol的长度\n",
    "trade_rets.groupby(pd.qcut(vol,4)).agg(sharpe)"
   ]
  },
  {
   "cell_type": "markdown",
   "metadata": {},
   "source": [
    "# 信号前沿分析\n",
    "介绍一种简化的截面动量投资组合，并得到模型参数化网格"
   ]
  },
  {
   "cell_type": "code",
   "execution_count": 5,
   "metadata": {},
   "outputs": [],
   "source": [
    "# 将金融和技术领域中的几只股票做成一个投资组合，并加载它们的历史价格数据\n",
    "import pandas_datareader.data as web\n",
    "names = ['AAPL','GOOG','MSFT','GS','MS','BAC','C']\n",
    "def get_px(stock,start,end):\n",
    "    return web.get_data_yahoo(stock,start,end)['Adj Close']"
   ]
  },
  {
   "cell_type": "code",
   "execution_count": 6,
   "metadata": {
    "scrolled": true
   },
   "outputs": [
    {
     "data": {
      "text/html": [
       "<div>\n",
       "<style scoped>\n",
       "    .dataframe tbody tr th:only-of-type {\n",
       "        vertical-align: middle;\n",
       "    }\n",
       "\n",
       "    .dataframe tbody tr th {\n",
       "        vertical-align: top;\n",
       "    }\n",
       "\n",
       "    .dataframe thead th {\n",
       "        text-align: right;\n",
       "    }\n",
       "</style>\n",
       "<table border=\"1\" class=\"dataframe\">\n",
       "  <thead>\n",
       "    <tr style=\"text-align: right;\">\n",
       "      <th></th>\n",
       "      <th>AAPL</th>\n",
       "      <th>BAC</th>\n",
       "      <th>C</th>\n",
       "      <th>GOOG</th>\n",
       "      <th>GS</th>\n",
       "      <th>MS</th>\n",
       "      <th>MSFT</th>\n",
       "    </tr>\n",
       "    <tr>\n",
       "      <th>Date</th>\n",
       "      <th></th>\n",
       "      <th></th>\n",
       "      <th></th>\n",
       "      <th></th>\n",
       "      <th></th>\n",
       "      <th></th>\n",
       "      <th></th>\n",
       "    </tr>\n",
       "  </thead>\n",
       "  <tbody>\n",
       "    <tr>\n",
       "      <th>2008-12-31</th>\n",
       "      <td>10.555326</td>\n",
       "      <td>12.424986</td>\n",
       "      <td>60.725376</td>\n",
       "      <td>153.250580</td>\n",
       "      <td>71.672134</td>\n",
       "      <td>13.191438</td>\n",
       "      <td>14.868458</td>\n",
       "    </tr>\n",
       "    <tr>\n",
       "      <th>2009-01-02</th>\n",
       "      <td>11.223147</td>\n",
       "      <td>12.645598</td>\n",
       "      <td>64.616867</td>\n",
       "      <td>160.060059</td>\n",
       "      <td>73.684967</td>\n",
       "      <td>13.972719</td>\n",
       "      <td>15.549164</td>\n",
       "    </tr>\n",
       "    <tr>\n",
       "      <th>2009-01-05</th>\n",
       "      <td>11.696809</td>\n",
       "      <td>12.336741</td>\n",
       "      <td>64.073860</td>\n",
       "      <td>163.412491</td>\n",
       "      <td>75.400528</td>\n",
       "      <td>14.490844</td>\n",
       "      <td>15.694486</td>\n",
       "    </tr>\n",
       "    <tr>\n",
       "      <th>2009-01-06</th>\n",
       "      <td>11.503882</td>\n",
       "      <td>12.601477</td>\n",
       "      <td>67.512863</td>\n",
       "      <td>166.406265</td>\n",
       "      <td>75.341080</td>\n",
       "      <td>16.102755</td>\n",
       "      <td>15.878043</td>\n",
       "    </tr>\n",
       "    <tr>\n",
       "      <th>2009-01-07</th>\n",
       "      <td>11.255305</td>\n",
       "      <td>12.098475</td>\n",
       "      <td>64.707367</td>\n",
       "      <td>160.403763</td>\n",
       "      <td>71.765533</td>\n",
       "      <td>14.885596</td>\n",
       "      <td>14.921995</td>\n",
       "    </tr>\n",
       "  </tbody>\n",
       "</table>\n",
       "</div>"
      ],
      "text/plain": [
       "                 AAPL        BAC          C        GOOG         GS         MS  \\\n",
       "Date                                                                            \n",
       "2008-12-31  10.555326  12.424986  60.725376  153.250580  71.672134  13.191438   \n",
       "2009-01-02  11.223147  12.645598  64.616867  160.060059  73.684967  13.972719   \n",
       "2009-01-05  11.696809  12.336741  64.073860  163.412491  75.400528  14.490844   \n",
       "2009-01-06  11.503882  12.601477  67.512863  166.406265  75.341080  16.102755   \n",
       "2009-01-07  11.255305  12.098475  64.707367  160.403763  71.765533  14.885596   \n",
       "\n",
       "                 MSFT  \n",
       "Date                   \n",
       "2008-12-31  14.868458  \n",
       "2009-01-02  15.549164  \n",
       "2009-01-05  15.694486  \n",
       "2009-01-06  15.878043  \n",
       "2009-01-07  14.921995  "
      ]
     },
     "execution_count": 6,
     "metadata": {},
     "output_type": "execute_result"
    }
   ],
   "source": [
    "px = pd.DataFrame({name:get_px(name,'2009-01-01','2012-06-01') for name in names})\n",
    "px.head()"
   ]
  },
  {
   "cell_type": "code",
   "execution_count": 11,
   "metadata": {},
   "outputs": [
    {
     "data": {
      "text/html": [
       "<div>\n",
       "<style scoped>\n",
       "    .dataframe tbody tr th:only-of-type {\n",
       "        vertical-align: middle;\n",
       "    }\n",
       "\n",
       "    .dataframe tbody tr th {\n",
       "        vertical-align: top;\n",
       "    }\n",
       "\n",
       "    .dataframe thead th {\n",
       "        text-align: right;\n",
       "    }\n",
       "</style>\n",
       "<table border=\"1\" class=\"dataframe\">\n",
       "  <thead>\n",
       "    <tr style=\"text-align: right;\">\n",
       "      <th></th>\n",
       "      <th>AAPL</th>\n",
       "      <th>BAC</th>\n",
       "      <th>C</th>\n",
       "      <th>GOOG</th>\n",
       "      <th>GS</th>\n",
       "      <th>MS</th>\n",
       "      <th>MSFT</th>\n",
       "    </tr>\n",
       "    <tr>\n",
       "      <th>Date</th>\n",
       "      <th></th>\n",
       "      <th></th>\n",
       "      <th></th>\n",
       "      <th></th>\n",
       "      <th></th>\n",
       "      <th></th>\n",
       "      <th></th>\n",
       "    </tr>\n",
       "  </thead>\n",
       "  <tbody>\n",
       "    <tr>\n",
       "      <th>2008-12-31</th>\n",
       "      <td>NaN</td>\n",
       "      <td>NaN</td>\n",
       "      <td>NaN</td>\n",
       "      <td>NaN</td>\n",
       "      <td>NaN</td>\n",
       "      <td>NaN</td>\n",
       "      <td>NaN</td>\n",
       "    </tr>\n",
       "    <tr>\n",
       "      <th>2009-01-01</th>\n",
       "      <td>0.000000</td>\n",
       "      <td>0.000000</td>\n",
       "      <td>0.000000</td>\n",
       "      <td>0.000000</td>\n",
       "      <td>0.000000</td>\n",
       "      <td>0.000000</td>\n",
       "      <td>0.000000</td>\n",
       "    </tr>\n",
       "    <tr>\n",
       "      <th>2009-01-02</th>\n",
       "      <td>0.063269</td>\n",
       "      <td>0.017756</td>\n",
       "      <td>0.064083</td>\n",
       "      <td>0.044434</td>\n",
       "      <td>0.028084</td>\n",
       "      <td>0.059226</td>\n",
       "      <td>0.045782</td>\n",
       "    </tr>\n",
       "    <tr>\n",
       "      <th>2009-01-05</th>\n",
       "      <td>0.042204</td>\n",
       "      <td>-0.024424</td>\n",
       "      <td>-0.008403</td>\n",
       "      <td>0.020945</td>\n",
       "      <td>0.023282</td>\n",
       "      <td>0.037081</td>\n",
       "      <td>0.009346</td>\n",
       "    </tr>\n",
       "    <tr>\n",
       "      <th>2009-01-06</th>\n",
       "      <td>-0.016494</td>\n",
       "      <td>0.021459</td>\n",
       "      <td>0.053672</td>\n",
       "      <td>0.018320</td>\n",
       "      <td>-0.000788</td>\n",
       "      <td>0.111237</td>\n",
       "      <td>0.011696</td>\n",
       "    </tr>\n",
       "  </tbody>\n",
       "</table>\n",
       "</div>"
      ],
      "text/plain": [
       "                AAPL       BAC         C      GOOG        GS        MS  \\\n",
       "Date                                                                     \n",
       "2008-12-31       NaN       NaN       NaN       NaN       NaN       NaN   \n",
       "2009-01-01  0.000000  0.000000  0.000000  0.000000  0.000000  0.000000   \n",
       "2009-01-02  0.063269  0.017756  0.064083  0.044434  0.028084  0.059226   \n",
       "2009-01-05  0.042204 -0.024424 -0.008403  0.020945  0.023282  0.037081   \n",
       "2009-01-06 -0.016494  0.021459  0.053672  0.018320 -0.000788  0.111237   \n",
       "\n",
       "                MSFT  \n",
       "Date                  \n",
       "2008-12-31       NaN  \n",
       "2009-01-01  0.000000  \n",
       "2009-01-02  0.045782  \n",
       "2009-01-05  0.009346  \n",
       "2009-01-06  0.011696  "
      ]
     },
     "execution_count": 11,
     "metadata": {},
     "output_type": "execute_result"
    }
   ],
   "source": [
    "# pad/ffill：用前一个非缺失值去填充该缺失值; \n",
    "# backfill/bfill：用下一个非缺失值填充该缺失值\n",
    "px = px.asfreq('B').fillna(method='pad')   # 工作日频率\n",
    "rets = px.pct_change()\n",
    "rets.head()"
   ]
  },
  {
   "cell_type": "code",
   "execution_count": 12,
   "metadata": {},
   "outputs": [
    {
     "data": {
      "text/plain": [
       "<matplotlib.axes._subplots.AxesSubplot at 0xb1819d0>"
      ]
     },
     "execution_count": 12,
     "metadata": {},
     "output_type": "execute_result"
    },
    {
     "data": {
      "image/png": "[encoded data removed]",
      "text/plain": [
       "<matplotlib.figure.Figure at 0xb1c0dd0>"
      ]
     },
     "metadata": {},
     "output_type": "display_data"
    }
   ],
   "source": [
    "((1+rets).cumprod()-1).plot()   # 绘制每只股票的累计收益"
   ]
  },
  {
   "cell_type": "code",
   "execution_count": 43,
   "metadata": {},
   "outputs": [],
   "source": [
    "# 对于投资组合的构建，需要计算特定回顾期的动量，然后按降序排列并标准化\n",
    "def calc_mom(price,lookback,lag):\n",
    "    mom_ret = price.shift(lag).pct_change(lookback)\n",
    "    ranks = mom_ret.rank(axis=1,ascending=False) # 每一行的数据按降序排序号，如最大值对于的序号为1，依次类推\n",
    "    # 标准化，公式（x-mean）/std\n",
    "    demeaned = ranks.sub(ranks.mean(axis=1), axis=0)\n",
    "    return demeaned.divide(demeaned.std(axis=1),axis=0)"
   ]
  },
  {
   "cell_type": "code",
   "execution_count": 60,
   "metadata": {},
   "outputs": [],
   "source": [
    "# 利用这个变换函数，再编写一个对策略进行事后检验的函数：通过指定回顾期和持有期（买卖之间的日数）计算投资组合整体的夏普比率\n",
    "compound = lambda x: (1+x).prod()-1\n",
    "daily_sr = lambda x: x.mean()/x.std()\n",
    "\n",
    "def strat_sr(prices,lb,hold):\n",
    "    # 计算投资组合权重\n",
    "    freq = '%dB' % hold    # 频率为hold个工作日\n",
    "    port = calc_mom(prices,lb,lag=1)\n",
    "    daily_rets = prices.pct_change()\n",
    "    \n",
    "    # 计算投资组合收益\n",
    "    port = port.shift(1).resample(freq,how='first')  # 按freq重采样，取第一个值\n",
    "    returns = daily_rets.resample(freq,how=compound)  # 按freq重采样后，最终值由compound方法计算得到\n",
    "    port_rets = (port*returns).sum(axis=1)  # 两个数据相同日期上的值相乘完后，按行求和\n",
    "    \n",
    "    return daily_sr(port_rets)*np.sqrt(252/hold)  # 输出的是一个数值\n"
   ]
  },
  {
   "cell_type": "code",
   "execution_count": 61,
   "metadata": {},
   "outputs": [
    {
     "name": "stderr",
     "output_type": "stream",
     "text": [
      "D:\\Python\\anaconda\\lib\\site-packages\\ipykernel_launcher.py:12: FutureWarning: how in .resample() is deprecated\n",
      "the new syntax is .resample(...).first()\n",
      "  if sys.path[0] == '':\n",
      "D:\\Python\\anaconda\\lib\\site-packages\\ipykernel_launcher.py:13: FutureWarning: how in .resample() is deprecated\n",
      "the new syntax is .resample(...)..apply(<func>)\n",
      "  del sys.path[0]\n"
     ]
    },
    {
     "data": {
      "text/plain": [
       "0.13145038363829603"
      ]
     },
     "execution_count": 61,
     "metadata": {},
     "output_type": "execute_result"
    }
   ],
   "source": [
    "# 通过价格数据以及一对参数组合调用该函数将会得到一个标量值\n",
    "strat_sr(px,70,30)"
   ]
  },
  {
   "cell_type": "code",
   "execution_count": 75,
   "metadata": {},
   "outputs": [
    {
     "name": "stderr",
     "output_type": "stream",
     "text": [
      "D:\\Python\\anaconda\\lib\\site-packages\\ipykernel_launcher.py:12: FutureWarning: how in .resample() is deprecated\n",
      "the new syntax is .resample(...).first()\n",
      "  if sys.path[0] == '':\n",
      "D:\\Python\\anaconda\\lib\\site-packages\\ipykernel_launcher.py:13: FutureWarning: how in .resample() is deprecated\n",
      "the new syntax is .resample(...)..apply(<func>)\n",
      "  del sys.path[0]\n"
     ]
    }
   ],
   "source": [
    "# 然后对参数网格（即多对参数组合）应用strat_sr函数，并将结果保存在一个defaultdict中，最后再将全部结果放进一个DataFrame\n",
    "from collections import defaultdict\n",
    "\n",
    "lookbacks = range(20,90,5)\n",
    "holdings = range(20,90,5)\n",
    "dd = defaultdict(dict)\n",
    "for lb in lookbacks:\n",
    "    for hold in holdings:\n",
    "        dd[lb][hold] = strat_sr(px,lb,hold)  # dd[lb] 输出是：{lb:{} }  相当于lb是列，hold是对于的行\n",
    "ddf = pd.DataFrame(dd)\n",
    "ddf.index.name = 'Holding Period'\n",
    "ddf.columns.name = 'Lookback Period'"
   ]
  },
  {
   "cell_type": "code",
   "execution_count": 71,
   "metadata": {},
   "outputs": [],
   "source": [
    "# 为了便于观察，将该结果图形化，生成一张带有装饰物的热图\n",
    "import matplotlib.pyplot as plt\n",
    "\n",
    "def heatmap(df,cmap=plt.cm.gray_r):\n",
    "    fig = plt.figure()\n",
    "    ax = fig.add_subplot(111)\n",
    "    axim = ax.imshow(df.values,cmap = cmap, interpolation='nearest')\n",
    "    ax.set_xlabel(df.columns.name)\n",
    "    ax.set_xticks(np.arange(len(df.columns)))\n",
    "    ax.set_xticklabels(list(df.columns))\n",
    "    ax.set_ylabel(df.index.name)\n",
    "    ax.set_yticks(np.arange(len(df.index)))\n",
    "    ax.set_yticklabels(list(df.index))\n",
    "    plt.colorbar(axim)"
   ]
  },
  {
   "cell_type": "code",
   "execution_count": 72,
   "metadata": {},
   "outputs": [
    {
     "data": {
      "image/png": "[encoded data removed]",
      "text/plain": [
       "<matplotlib.figure.Figure at 0xafd01d0>"
      ]
     },
     "metadata": {},
     "output_type": "display_data"
    }
   ],
   "source": [
    "# 对事后检验结果调用该函数\n",
    "heatmap(ddf)"
   ]
  },
  {
   "cell_type": "markdown",
   "metadata": {},
   "source": [
    "# 期货合约转仓\n",
    "期货是一种无所不在的衍生品合约。它是一种在指定日期交收指定资产（比如石油、黄金或FTSE100指数的股份）的约定。在实践中，由于期货合约具有限时性，对（股票、货币、商品、债券以及其他资产类）期货合约的建模和交易是复杂的。例如，对于某种期货（比如银或铜期货），在给定时间点，可能有多个到期时间不同的合约被交易。\n",
    "- 一般来说，下一个期满的期货合约（即近期合约）将是最具流动性的（成交量最高和买卖差价最低）\n",
    "- 通过一个表示盈亏（始终持有近期合约）的连续的收益指数即可轻松实现建模和预测\n",
    "- 从一份到期合约过渡到下一期（或更远）合约称为转仓\n"
   ]
  },
  {
   "cell_type": "code",
   "execution_count": 80,
   "metadata": {},
   "outputs": [
    {
     "data": {
      "text/plain": [
       "Date\n",
       "2011-08-01    1074.033051\n",
       "2011-08-02    1046.594086\n",
       "2011-08-03    1052.265320\n",
       "2011-08-04    1002.975693\n",
       "2011-08-05    1001.474686\n",
       "2011-08-08     936.255035\n",
       "2011-08-09     979.790573\n",
       "2011-08-10     936.505127\n",
       "2011-08-11     978.539124\n",
       "2011-08-12     985.127945\n",
       "2011-08-15    1005.977859\n",
       "2011-08-16     997.387695\n",
       "2011-08-17     998.054886\n",
       "2011-08-18     955.020218\n",
       "2011-08-19     939.424057\n",
       "2011-08-22     940.175095\n",
       "2011-08-23     971.116486\n",
       "2011-08-24     984.794006\n",
       "2011-08-25     969.782181\n",
       "2011-08-26     983.876724\n",
       "2011-08-29    1012.149658\n",
       "2011-08-30    1014.818573\n",
       "2011-08-31    1019.322205\n",
       "2011-09-01    1008.646774\n",
       "2011-09-02     982.875977\n",
       "2011-09-06     975.703506\n",
       "2011-09-07    1003.225632\n",
       "2011-09-08     992.800674\n",
       "2011-09-09     966.779556\n",
       "2011-09-12     973.034668\n",
       "                 ...     \n",
       "2012-06-15    1142.504120\n",
       "2012-06-18    1144.718475\n",
       "2012-06-19    1155.790939\n",
       "2012-06-20    1153.917084\n",
       "2012-06-21    1128.024673\n",
       "2012-06-22    1136.711884\n",
       "2012-06-25    1118.485641\n",
       "2012-06-26    1124.106598\n",
       "2012-06-27    1134.242249\n",
       "2012-06-28    1131.005783\n",
       "2012-06-29    1159.197998\n",
       "2012-07-02    1162.690125\n",
       "2012-07-03    1170.355453\n",
       "2012-07-05    1165.074615\n",
       "2012-07-06    1154.002686\n",
       "2012-07-09    1152.554398\n",
       "2012-07-10    1142.504120\n",
       "2012-07-11    1142.674179\n",
       "2012-07-12    1137.138214\n",
       "2012-07-13    1156.216736\n",
       "2012-07-16    1153.491287\n",
       "2012-07-17    1161.412430\n",
       "2012-07-18    1170.014877\n",
       "2012-07-19    1173.081360\n",
       "2012-07-20    1162.349243\n",
       "2012-07-23    1150.595779\n",
       "2012-07-24    1140.715332\n",
       "2012-07-25    1140.971146\n",
       "2012-07-26    1159.793777\n",
       "2012-07-27    1181.172333\n",
       "Name: Adj Close, Length: 251, dtype: float64"
      ]
     },
     "execution_count": 80,
     "metadata": {},
     "output_type": "execute_result"
    }
   ],
   "source": [
    "# 用SPY交易所基金的部分价格作为标准普尔500 指数的代理\n",
    "import pandas_datareader.data as web\n",
    "# 标准普尔500指数的近似价格\n",
    "px = web.get_data_yahoo('SPY','2011-08-01','2012-07-27')['Adj Close']*10\n",
    "px"
   ]
  },
  {
   "cell_type": "code",
   "execution_count": 86,
   "metadata": {},
   "outputs": [
    {
     "data": {
      "text/plain": [
       "ESU2   2012-09-21\n",
       "ESZ2   2012-12-21\n",
       "dtype: datetime64[ns]"
      ]
     },
     "execution_count": 86,
     "metadata": {},
     "output_type": "execute_result"
    }
   ],
   "source": [
    "# 在一个Series中放了两份标准普尔500指数期货合约及其到期日期\n",
    "from datetime import datetime\n",
    "expiry = {'ESU2':datetime(2012,9,21),\n",
    "          'ESZ2':datetime(2012,12,21)}\n",
    "expiry = pd.Series(expiry).sort_values()  # series的数据 按值升序排序\n",
    "expiry"
   ]
  },
  {
   "cell_type": "code",
   "execution_count": 91,
   "metadata": {},
   "outputs": [
    {
     "name": "stdout",
     "output_type": "stream",
     "text": [
      "323.5 -38.0\n"
     ]
    }
   ],
   "source": [
    "# 用Yahoo!Finance的价格以及一个随机漫步和一些噪声来模拟这两份合约未来的走势\n",
    "np.random.seed(12347)\n",
    "N = 200\n",
    "walk = (np.random.randint(0,200,size=N)-100)*0.25   # 数据范围在-25 到 25之间\n",
    "perturb = (np.random.randint(0,20,size=N)-10)*0.25  # 数据范围在-2.5 到 2.5之间\n",
    "walk = walk.cumsum()  # 累计求和"
   ]
  },
  {
   "cell_type": "code",
   "execution_count": 95,
   "metadata": {},
   "outputs": [
    {
     "data": {
      "text/html": [
       "<div>\n",
       "<style scoped>\n",
       "    .dataframe tbody tr th:only-of-type {\n",
       "        vertical-align: middle;\n",
       "    }\n",
       "\n",
       "    .dataframe tbody tr th {\n",
       "        vertical-align: top;\n",
       "    }\n",
       "\n",
       "    .dataframe thead th {\n",
       "        text-align: right;\n",
       "    }\n",
       "</style>\n",
       "<table border=\"1\" class=\"dataframe\">\n",
       "  <thead>\n",
       "    <tr style=\"text-align: right;\">\n",
       "      <th></th>\n",
       "      <th>ESU2</th>\n",
       "      <th>ESZ2</th>\n",
       "    </tr>\n",
       "  </thead>\n",
       "  <tbody>\n",
       "    <tr>\n",
       "      <th>2011-08-01</th>\n",
       "      <td>1074.033051</td>\n",
       "      <td>1074.033051</td>\n",
       "    </tr>\n",
       "    <tr>\n",
       "      <th>2011-08-02</th>\n",
       "      <td>1046.594086</td>\n",
       "      <td>1046.594086</td>\n",
       "    </tr>\n",
       "    <tr>\n",
       "      <th>2011-08-03</th>\n",
       "      <td>1052.265320</td>\n",
       "      <td>1052.265320</td>\n",
       "    </tr>\n",
       "    <tr>\n",
       "      <th>2011-08-04</th>\n",
       "      <td>1002.975693</td>\n",
       "      <td>1002.975693</td>\n",
       "    </tr>\n",
       "    <tr>\n",
       "      <th>2011-08-05</th>\n",
       "      <td>1001.474686</td>\n",
       "      <td>1001.474686</td>\n",
       "    </tr>\n",
       "  </tbody>\n",
       "</table>\n",
       "</div>"
      ],
      "text/plain": [
       "                   ESU2         ESZ2\n",
       "2011-08-01  1074.033051  1074.033051\n",
       "2011-08-02  1046.594086  1046.594086\n",
       "2011-08-03  1052.265320  1052.265320\n",
       "2011-08-04  1002.975693  1002.975693\n",
       "2011-08-05  1001.474686  1001.474686"
      ]
     },
     "execution_count": 95,
     "metadata": {},
     "output_type": "execute_result"
    }
   ],
   "source": [
    "rng = pd.date_range(px.index[0],periods = len(px)+N,freq='B')\n",
    "near = np.concatenate([px.values,px.values[-1]+walk])  # 近期合约\n",
    "far = np.concatenate([px.values,px.values[-1]+walk+perturb])  # 远期合约\n",
    "prices = pd.DataFrame({'ESU2':near,'ESZ2':far},index=rng)  # prices是关于两个合约的时间序列\n",
    "prices.head()"
   ]
  },
  {
   "cell_type": "code",
   "execution_count": 133,
   "metadata": {},
   "outputs": [],
   "source": [
    "# 将多个时间序列合并为单个连续序列的一个方法就是构造一个加权矩阵。活动合约的权重应该设为1，直到满期为值。到那个时候，必须决定一个转仓约定\n",
    "# 下面这个函数可以计算一个加权矩阵（权重根据到期前的期数减少而线性衰减）\n",
    "def get_roll_weights(start,expiry,items,roll_periods=5):\n",
    "    #start:用于计算权重加权矩阵的第一天\n",
    "    #expiry：由“合约代码->到期日期”组成的序列\n",
    "    # items: 一组合约名称\n",
    "    \n",
    "    dates = pd.date_range(start,expiry[-1],freq='B')\n",
    "    weights = pd.DataFrame(np.zeros((len(dates),len(items))),index=dates,columns=items)\n",
    "    \n",
    "    prev_date = weights.index[0]\n",
    "    for i,(item,ex_date) in enumerate(expiry.iteritems()):\n",
    "        if i < len(expiry) - 1:  # 不是最后一个合约\n",
    "             # prev_date到 到期时间前的所有数据权重设为1\n",
    "            weights.ix[prev_date:pd.Timestamp(ex_date)-pd.offsets.BDay(),item] = 1 \n",
    "            roll_rng = pd.date_range(end=pd.Timestamp(ex_date)-pd.offsets.BDay(),periods=roll_periods+1,freq='B')\n",
    "            decay_weights = np.linspace(0,1,roll_periods+1)\n",
    "            weights.ix[roll_rng,item] = 1-decay_weights  # 当前合约在roll_rng时间上随着时间减少权重\n",
    "            weights.ix[roll_rng,expiry.index[i+1]] = decay_weights # 下个合约在roll_rng时间上随着时间增加权重\n",
    "        else:  # 是最后一个合约\n",
    "            weights.ix[prev_date:,item] = 1\n",
    "        prev_date = ex_date\n",
    "    return weights"
   ]
  },
  {
   "cell_type": "code",
   "execution_count": 136,
   "metadata": {},
   "outputs": [
    {
     "name": "stderr",
     "output_type": "stream",
     "text": [
      "D:\\Python\\anaconda\\lib\\site-packages\\ipykernel_launcher.py:15: DeprecationWarning: \n",
      ".ix is deprecated. Please use\n",
      ".loc for label based indexing or\n",
      ".iloc for positional indexing\n",
      "\n",
      "See the documentation here:\n",
      "http://pandas.pydata.org/pandas-docs/stable/indexing.html#ix-indexer-is-deprecated\n",
      "  from ipykernel import kernelapp as app\n"
     ]
    },
    {
     "data": {
      "text/html": [
       "<div>\n",
       "<style scoped>\n",
       "    .dataframe tbody tr th:only-of-type {\n",
       "        vertical-align: middle;\n",
       "    }\n",
       "\n",
       "    .dataframe tbody tr th {\n",
       "        vertical-align: top;\n",
       "    }\n",
       "\n",
       "    .dataframe thead th {\n",
       "        text-align: right;\n",
       "    }\n",
       "</style>\n",
       "<table border=\"1\" class=\"dataframe\">\n",
       "  <thead>\n",
       "    <tr style=\"text-align: right;\">\n",
       "      <th></th>\n",
       "      <th>ESU2</th>\n",
       "      <th>ESZ2</th>\n",
       "    </tr>\n",
       "  </thead>\n",
       "  <tbody>\n",
       "    <tr>\n",
       "      <th>2012-09-12</th>\n",
       "      <td>1.0</td>\n",
       "      <td>0.0</td>\n",
       "    </tr>\n",
       "    <tr>\n",
       "      <th>2012-09-13</th>\n",
       "      <td>1.0</td>\n",
       "      <td>0.0</td>\n",
       "    </tr>\n",
       "    <tr>\n",
       "      <th>2012-09-14</th>\n",
       "      <td>0.8</td>\n",
       "      <td>0.2</td>\n",
       "    </tr>\n",
       "    <tr>\n",
       "      <th>2012-09-17</th>\n",
       "      <td>0.6</td>\n",
       "      <td>0.4</td>\n",
       "    </tr>\n",
       "    <tr>\n",
       "      <th>2012-09-18</th>\n",
       "      <td>0.4</td>\n",
       "      <td>0.6</td>\n",
       "    </tr>\n",
       "    <tr>\n",
       "      <th>2012-09-19</th>\n",
       "      <td>0.2</td>\n",
       "      <td>0.8</td>\n",
       "    </tr>\n",
       "    <tr>\n",
       "      <th>2012-09-20</th>\n",
       "      <td>0.0</td>\n",
       "      <td>1.0</td>\n",
       "    </tr>\n",
       "    <tr>\n",
       "      <th>2012-09-21</th>\n",
       "      <td>0.0</td>\n",
       "      <td>1.0</td>\n",
       "    </tr>\n",
       "  </tbody>\n",
       "</table>\n",
       "</div>"
      ],
      "text/plain": [
       "            ESU2  ESZ2\n",
       "2012-09-12   1.0   0.0\n",
       "2012-09-13   1.0   0.0\n",
       "2012-09-14   0.8   0.2\n",
       "2012-09-17   0.6   0.4\n",
       "2012-09-18   0.4   0.6\n",
       "2012-09-19   0.2   0.8\n",
       "2012-09-20   0.0   1.0\n",
       "2012-09-21   0.0   1.0"
      ]
     },
     "execution_count": 136,
     "metadata": {},
     "output_type": "execute_result"
    }
   ],
   "source": [
    "# 快到ESU2到期日的那几天的权重\n",
    "weights = get_roll_weights('6/1/2012',expiry,prices.columns)\n",
    "weights.ix['2012-09-12':'2012-09-21']"
   ]
  },
  {
   "cell_type": "code",
   "execution_count": 139,
   "metadata": {},
   "outputs": [
    {
     "data": {
      "text/plain": [
       "2012-09-03    0.009396\n",
       "2012-09-04    0.002234\n",
       "2012-09-05   -0.007616\n",
       "2012-09-06    0.002059\n",
       "2012-09-07    0.013449\n",
       "2012-09-10   -0.005161\n",
       "2012-09-11   -0.001667\n",
       "2012-09-12    0.003526\n",
       "2012-09-13   -0.011835\n",
       "2012-09-14    0.002208\n",
       "2012-09-17    0.010161\n",
       "2012-09-18   -0.000813\n",
       "2012-09-19   -0.004479\n",
       "2012-09-20    0.005951\n",
       "2012-09-21    0.008503\n",
       "2012-09-24    0.015947\n",
       "2012-09-25    0.016959\n",
       "2012-09-26    0.014902\n",
       "2012-09-27    0.016956\n",
       "2012-09-28    0.003094\n",
       "Freq: B, dtype: float64"
      ]
     },
     "execution_count": 139,
     "metadata": {},
     "output_type": "execute_result"
    }
   ],
   "source": [
    "# 转仓期货收益就是合约收益的加权和\n",
    "rolled_returns = (prices.pct_change()*weights).sum(1)\n",
    "rolled_returns['2012-09']"
   ]
  },
  {
   "cell_type": "markdown",
   "metadata": {},
   "source": [
    "# 移动相关系数与线性回归\n",
    "移动窗口和指数加权时间序列函数就是用于处理动态模型的工具。\n",
    "- 相关系数是观察两个资产时间序列的变化的协动性的一种手段。pandas的rolling_corr函数可以根据两个收益序列计算出移动窗口相关系数"
   ]
  },
  {
   "cell_type": "code",
   "execution_count": 258,
   "metadata": {},
   "outputs": [],
   "source": [
    "# 从Yahoo!Finance加载一些价格序列，并计算每日收益率\n",
    "aapl = web.get_data_yahoo('AAPL','2000-01-01','2012-07-27')['Adj Close']\n",
    "msft = web.get_data_yahoo('MSFT','2000-01-01','2012-07-27')['Adj Close']\n",
    "aapl_rets = aapl.pct_change()\n",
    "msft_rets = msft.pct_change()"
   ]
  },
  {
   "cell_type": "code",
   "execution_count": 259,
   "metadata": {},
   "outputs": [
    {
     "name": "stderr",
     "output_type": "stream",
     "text": [
      "D:\\Python\\anaconda\\lib\\site-packages\\ipykernel_launcher.py:2: FutureWarning: pd.rolling_corr is deprecated for Series and will be removed in a future version, replace with \n",
      "\tSeries.rolling(window=250).corr(other=<Series>)\n",
      "  \n"
     ]
    },
    {
     "data": {
      "text/plain": [
       "<matplotlib.axes._subplots.AxesSubplot at 0x13a2b050>"
      ]
     },
     "execution_count": 259,
     "metadata": {},
     "output_type": "execute_result"
    },
    {
     "data": {
      "image/png": "[encoded data removed]",
      "text/plain": [
       "<matplotlib.figure.Figure at 0xe69ef90>"
      ]
     },
     "metadata": {},
     "output_type": "display_data"
    }
   ],
   "source": [
    "# 计算一年期移动相关系数并绘制图标\n",
    "pd.rolling_corr(aapl_rets,msft_rets,250).plot()"
   ]
  },
  {
   "cell_type": "code",
   "execution_count": 260,
   "metadata": {},
   "outputs": [],
   "source": [
    "# 两个资产之间的相关系数存在一个问题，即不能捕获波动性差异。\n",
    "# 最小二乘回归提供了另一种对一个变量与一个或多个其他预测变量之间的动态关系的建模办法\n",
    "msft_rets.dropna(inplace=True)\n",
    "aapl_rets.dropna(inplace=True)\n",
    "x= pd.DataFrame({'MSFT':msft_rets})\n",
    "\n",
    "import statsmodels.api as sm\n",
    "res=[]\n",
    "timeIndex = []\n",
    "for i in range(len(x)):\n",
    "    if i >=250:\n",
    "        windows_x =  x[i-250:i]\n",
    "        windows_X = sm.add_constant(windows_x)  # 增加常数项\n",
    "        windows_y =  aapl_rets[i-250:i]\n",
    "        res_model = sm.OLS(windows_y,windows_X).fit().params\n",
    "        res.append([res_model['const'],res_model['MSFT']])\n",
    "        timeIndex.append(x.index[i])\n",
    "results  = pd.DataFrame(res,columns=['const','MSFT'],index = timeIndex)  \n"
   ]
  },
  {
   "cell_type": "code",
   "execution_count": 261,
   "metadata": {},
   "outputs": [
    {
     "data": {
      "text/plain": [
       "<matplotlib.axes._subplots.AxesSubplot at 0x13a26750>"
      ]
     },
     "execution_count": 261,
     "metadata": {},
     "output_type": "execute_result"
    },
    {
     "data": {
      "image/png": "[encoded data removed]",
      "text/plain": [
       "<matplotlib.figure.Figure at 0x13a2bfb0>"
      ]
     },
     "metadata": {},
     "output_type": "display_data"
    }
   ],
   "source": [
    "results['MSFT'].plot()"
   ]
  }
 ],
 "metadata": {
  "kernelspec": {
   "display_name": "Python 3",
   "language": "python",
   "name": "python3"
  },
  "language_info": {
   "codemirror_mode": {
    "name": "ipython",
    "version": 3
   },
   "file_extension": ".py",
   "mimetype": "text/x-python",
   "name": "python",
   "nbconvert_exporter": "python",
   "pygments_lexer": "ipython3",
   "version": "3.6.4"
  }
 },
 "nbformat": 4,
 "nbformat_minor": 2
}
